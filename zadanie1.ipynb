{
 "cells": [
  {
   "cell_type": "markdown",
   "metadata": {},
   "source": [
    "# Projekt IAU  \n",
    "## 1. časť - Prieskumná analýza \n",
    "### Vypracovali: Marek Adamovič, Michal Pidanič\n",
    "### Číslo datasetu: 32\n",
    "### Podiel práce: 50/50"
   ]
  },
  {
   "cell_type": "code",
   "execution_count": 57,
   "metadata": {},
   "outputs": [],
   "source": [
    "import pandas\n",
    "import seaborn"
   ]
  },
  {
   "cell_type": "markdown",
   "metadata": {},
   "source": [
    "### Načítanie a výpis ukážky datasetu:"
   ]
  },
  {
   "cell_type": "code",
   "execution_count": 58,
   "metadata": {},
   "outputs": [
    {
     "data": {
      "text/html": [
       "<div>\n",
       "<style scoped>\n",
       "    .dataframe tbody tr th:only-of-type {\n",
       "        vertical-align: middle;\n",
       "    }\n",
       "\n",
       "    .dataframe tbody tr th {\n",
       "        vertical-align: top;\n",
       "    }\n",
       "\n",
       "    .dataframe thead th {\n",
       "        text-align: right;\n",
       "    }\n",
       "</style>\n",
       "<table border=\"1\" class=\"dataframe\">\n",
       "  <thead>\n",
       "    <tr style=\"text-align: right;\">\n",
       "      <th></th>\n",
       "      <th>Unnamed: 0</th>\n",
       "      <th>indicator</th>\n",
       "      <th>erytrocyty</th>\n",
       "      <th>smoker</th>\n",
       "      <th>weight</th>\n",
       "      <th>trombocyty</th>\n",
       "      <th>alp</th>\n",
       "      <th>hbver</th>\n",
       "      <th>etytr</th>\n",
       "      <th>relationship</th>\n",
       "      <th>ssn</th>\n",
       "      <th>leukocyty</th>\n",
       "      <th>ast</th>\n",
       "      <th>hematokrit</th>\n",
       "      <th>er-cv</th>\n",
       "      <th>hemoglobin</th>\n",
       "      <th>name</th>\n",
       "      <th>alt</th>\n",
       "    </tr>\n",
       "  </thead>\n",
       "  <tbody>\n",
       "    <tr>\n",
       "      <th>0</th>\n",
       "      <td>0</td>\n",
       "      <td>1.0</td>\n",
       "      <td>6.91767</td>\n",
       "      <td>yes</td>\n",
       "      <td>69.94161</td>\n",
       "      <td>6.50529</td>\n",
       "      <td>81.48900</td>\n",
       "      <td>7.30162</td>\n",
       "      <td>6.77497</td>\n",
       "      <td>separated</td>\n",
       "      <td>041-29-7959</td>\n",
       "      <td>6.17532</td>\n",
       "      <td>60.01609</td>\n",
       "      <td>7.12529</td>\n",
       "      <td>44.43192</td>\n",
       "      <td>6.01513</td>\n",
       "      <td>Blake Fox</td>\n",
       "      <td>0.88575</td>\n",
       "    </tr>\n",
       "    <tr>\n",
       "      <th>1</th>\n",
       "      <td>1</td>\n",
       "      <td>0.0</td>\n",
       "      <td>9.70624</td>\n",
       "      <td>no</td>\n",
       "      <td>117.24842</td>\n",
       "      <td>6.83699</td>\n",
       "      <td>43.40520</td>\n",
       "      <td>7.90707</td>\n",
       "      <td>7.82625</td>\n",
       "      <td>married</td>\n",
       "      <td>183-58-0483</td>\n",
       "      <td>9.41015</td>\n",
       "      <td>56.79596</td>\n",
       "      <td>5.22638</td>\n",
       "      <td>48.17707</td>\n",
       "      <td>8.13065</td>\n",
       "      <td>Randy Solis</td>\n",
       "      <td>6.09530</td>\n",
       "    </tr>\n",
       "    <tr>\n",
       "      <th>2</th>\n",
       "      <td>2</td>\n",
       "      <td>1.0</td>\n",
       "      <td>7.88145</td>\n",
       "      <td>yes</td>\n",
       "      <td>83.97086</td>\n",
       "      <td>7.75608</td>\n",
       "      <td>38.21236</td>\n",
       "      <td>6.81795</td>\n",
       "      <td>5.04172</td>\n",
       "      <td>widowed</td>\n",
       "      <td>411-84-5693</td>\n",
       "      <td>7.27551</td>\n",
       "      <td>63.29051</td>\n",
       "      <td>5.47408</td>\n",
       "      <td>29.81102</td>\n",
       "      <td>4.51670</td>\n",
       "      <td>Phillip Miranda</td>\n",
       "      <td>1.53154</td>\n",
       "    </tr>\n",
       "    <tr>\n",
       "      <th>3</th>\n",
       "      <td>3</td>\n",
       "      <td>1.0</td>\n",
       "      <td>6.63073</td>\n",
       "      <td>yes</td>\n",
       "      <td>125.82753</td>\n",
       "      <td>6.06728</td>\n",
       "      <td>88.20804</td>\n",
       "      <td>7.63231</td>\n",
       "      <td>5.57008</td>\n",
       "      <td>divoced</td>\n",
       "      <td>028-84-2760</td>\n",
       "      <td>5.75381</td>\n",
       "      <td>26.62704</td>\n",
       "      <td>6.74435</td>\n",
       "      <td>52.06123</td>\n",
       "      <td>5.92597</td>\n",
       "      <td>Mark Watson</td>\n",
       "      <td>0.58661</td>\n",
       "    </tr>\n",
       "    <tr>\n",
       "      <th>4</th>\n",
       "      <td>4</td>\n",
       "      <td>1.0</td>\n",
       "      <td>9.09638</td>\n",
       "      <td>no</td>\n",
       "      <td>50.70530</td>\n",
       "      <td>7.90158</td>\n",
       "      <td>90.12868</td>\n",
       "      <td>8.75450</td>\n",
       "      <td>6.83533</td>\n",
       "      <td>married</td>\n",
       "      <td>375-37-7701</td>\n",
       "      <td>6.77832</td>\n",
       "      <td>32.74759</td>\n",
       "      <td>7.86582</td>\n",
       "      <td>51.68909</td>\n",
       "      <td>6.26871</td>\n",
       "      <td>Patrick Oliver</td>\n",
       "      <td>3.33738</td>\n",
       "    </tr>\n",
       "  </tbody>\n",
       "</table>\n",
       "</div>"
      ],
      "text/plain": [
       "   Unnamed: 0  indicator  erytrocyty smoker     weight  trombocyty       alp  \\\n",
       "0           0        1.0     6.91767    yes   69.94161     6.50529  81.48900   \n",
       "1           1        0.0     9.70624     no  117.24842     6.83699  43.40520   \n",
       "2           2        1.0     7.88145    yes   83.97086     7.75608  38.21236   \n",
       "3           3        1.0     6.63073    yes  125.82753     6.06728  88.20804   \n",
       "4           4        1.0     9.09638     no   50.70530     7.90158  90.12868   \n",
       "\n",
       "     hbver    etytr relationship          ssn  leukocyty       ast  \\\n",
       "0  7.30162  6.77497    separated  041-29-7959    6.17532  60.01609   \n",
       "1  7.90707  7.82625      married  183-58-0483    9.41015  56.79596   \n",
       "2  6.81795  5.04172      widowed  411-84-5693    7.27551  63.29051   \n",
       "3  7.63231  5.57008      divoced  028-84-2760    5.75381  26.62704   \n",
       "4  8.75450  6.83533      married  375-37-7701    6.77832  32.74759   \n",
       "\n",
       "   hematokrit     er-cv  hemoglobin             name      alt  \n",
       "0     7.12529  44.43192     6.01513        Blake Fox  0.88575  \n",
       "1     5.22638  48.17707     8.13065      Randy Solis  6.09530  \n",
       "2     5.47408  29.81102     4.51670  Phillip Miranda  1.53154  \n",
       "3     6.74435  52.06123     5.92597      Mark Watson  0.58661  \n",
       "4     7.86582  51.68909     6.26871   Patrick Oliver  3.33738  "
      ]
     },
     "execution_count": 58,
     "metadata": {},
     "output_type": "execute_result"
    }
   ],
   "source": [
    "filename = \"032/labor.csv\"\n",
    "df = pandas.read_csv(filename, sep='\\t')\n",
    "df.head()"
   ]
  },
  {
   "cell_type": "markdown",
   "metadata": {},
   "source": [
    "## 1. Základný opis dát spolu s ich charakteristikami\n",
    "\n",
    "### Počet záznamov a atribútov:"
   ]
  },
  {
   "cell_type": "code",
   "execution_count": 59,
   "metadata": {},
   "outputs": [
    {
     "name": "stdout",
     "output_type": "stream",
     "text": [
      "\n",
      "Number of records: 9922\n",
      "\n",
      "Number of attributes: 18\n"
     ]
    }
   ],
   "source": [
    "row_count, column_count = df.shape\n",
    "print(\"\\nNumber of records:\", row_count)\n",
    "print(\"\\nNumber of attributes:\", column_count)"
   ]
  },
  {
   "cell_type": "markdown",
   "metadata": {},
   "source": [
    "### Typy atribútov:"
   ]
  },
  {
   "cell_type": "code",
   "execution_count": 60,
   "metadata": {},
   "outputs": [
    {
     "name": "stdout",
     "output_type": "stream",
     "text": [
      "Unnamed: 0        int64\n",
      "indicator       float64\n",
      "erytrocyty      float64\n",
      "smoker           object\n",
      "weight          float64\n",
      "trombocyty      float64\n",
      "alp             float64\n",
      "hbver           float64\n",
      "etytr           float64\n",
      "relationship     object\n",
      "ssn              object\n",
      "leukocyty       float64\n",
      "ast             float64\n",
      "hematokrit      float64\n",
      "er-cv           float64\n",
      "hemoglobin      float64\n",
      "name             object\n",
      "alt             float64\n",
      "dtype: object\n"
     ]
    }
   ],
   "source": [
    "print(df.dtypes)"
   ]
  },
  {
   "cell_type": "code",
   "execution_count": 61,
   "metadata": {},
   "outputs": [
    {
     "data": {
      "text/plain": [
       "<seaborn.axisgrid.FacetGrid at 0x7fecbbddc400>"
      ]
     },
     "execution_count": 61,
     "metadata": {},
     "output_type": "execute_result"
    },
    {
     "data": {
      "image/png": "[encoded data removed]",
      "text/plain": [
       "<Figure size 412.125x360 with 1 Axes>"
      ]
     },
     "metadata": {
      "needs_background": "light"
     },
     "output_type": "display_data"
    },
    {
     "data": {
      "image/png": "[encoded data removed]",
      "text/plain": [
       "<Figure size 412.125x360 with 1 Axes>"
      ]
     },
     "metadata": {
      "needs_background": "light"
     },
     "output_type": "display_data"
    },
    {
     "data": {
      "image/png": "[encoded data removed]",
      "text/plain": [
       "<Figure size 412.125x360 with 1 Axes>"
      ]
     },
     "metadata": {
      "needs_background": "light"
     },
     "output_type": "display_data"
    },
    {
     "data": {
      "image/png": "[encoded data removed]",
      "text/plain": [
       "<Figure size 412.125x360 with 1 Axes>"
      ]
     },
     "metadata": {
      "needs_background": "light"
     },
     "output_type": "display_data"
    },
    {
     "data": {
      "image/png": "[encoded data removed]",
      "text/plain": [
       "<Figure size 412.125x360 with 1 Axes>"
      ]
     },
     "metadata": {
      "needs_background": "light"
     },
     "output_type": "display_data"
    },
    {
     "data": {
      "image/png": "[encoded data removed]",
      "text/plain": [
       "<Figure size 412.125x360 with 1 Axes>"
      ]
     },
     "metadata": {
      "needs_background": "light"
     },
     "output_type": "display_data"
    }
   ],
   "source": [
    "# distribúcia\n",
    "seaborn.displot(x = \"erytrocyty\", hue = \"indicator\", binwidth=0.1, data = df)\n",
    "seaborn.displot(x = \"weight\", hue = \"indicator\", binwidth=3, data = df)\n",
    "seaborn.displot(x = \"trombocyty\", hue = \"indicator\", binwidth=0.1, data = df)\n",
    "seaborn.displot(x = \"leukocyty\", hue = \"indicator\", binwidth=0.1, data = df)\n",
    "seaborn.displot(x = \"hematokrit\", hue = \"indicator\", binwidth=0.1, data = df)\n",
    "seaborn.displot(x = \"hemoglobin\", hue = \"indicator\", binwidth=0.1, data = df)\n"
   ]
  },
  {
   "cell_type": "markdown",
   "metadata": {},
   "source": [
    "### Základné deskriptívne štatistiky:"
   ]
  },
  {
   "cell_type": "code",
   "execution_count": 64,
   "metadata": {},
   "outputs": [
    {
     "name": "stdout",
     "output_type": "stream",
     "text": [
      "        patient_id    indicator   erytrocyty       smoker       weight  \\\n",
      "count  9922.000000  9922.000000  9892.000000  9922.000000  9922.000000   \n",
      "mean   4960.500000     0.643923     7.354813     0.397803    70.033130   \n",
      "std    2864.379019     0.478863     1.655995     0.489469    35.360537   \n",
      "min       0.000000     0.000000     0.695010     0.000000   -68.224370   \n",
      "25%    2480.250000     0.000000     6.341305     0.000000    46.241730   \n",
      "50%    4960.500000     1.000000     7.627100     0.000000    70.063115   \n",
      "75%    7440.750000     1.000000     8.480747     1.000000    93.885320   \n",
      "max    9921.000000     1.000000    12.598130     1.000000   199.399280   \n",
      "\n",
      "        trombocyty          alp        hbver        etytr    leukocyty  \\\n",
      "count  9893.000000  9893.000000  9893.000000  9893.000000  9893.000000   \n",
      "mean      6.929616    58.523833     6.924524     6.146493     6.929109   \n",
      "std       1.010643    25.531979     1.443274     1.615464     1.006582   \n",
      "min       2.373590     0.000000     1.413770     0.000000     2.813300   \n",
      "25%       6.257310    37.089460     5.735280     5.024650     6.242530   \n",
      "50%       6.923910    64.505430     6.764880     6.045330     6.929120   \n",
      "75%       7.610340    81.404220     8.129740     7.193810     7.618590   \n",
      "max      10.907460   100.000000    11.481020    11.721240    10.565480   \n",
      "\n",
      "               ast   hematokrit        er-cv   hemoglobin          alt  \n",
      "count  9893.000000  9892.000000  9893.000000  9893.000000  9893.000000  \n",
      "mean     51.940039     6.947397    51.777510     6.507270     2.050173  \n",
      "std      12.668313     0.990816    13.967717     1.565332     3.117817  \n",
      "min       0.000000     2.993240     0.000000     1.733080     0.000000  \n",
      "25%      43.238440     6.275028    42.627870     5.345560     0.742730  \n",
      "50%      51.721660     6.931925    51.805920     6.398260     1.220830  \n",
      "75%      60.578170     7.621490    61.182190     7.740200     2.138300  \n",
      "max     100.000000    10.691170   100.000000    11.792360   100.000000  \n"
     ]
    }
   ],
   "source": [
    "# základné deskriptívne štatistiky\n",
    "print(df.describe())\n",
    "\n",
    "\n",
    "# count = počet záznamov .. ľahko vidíme, koľko dát z daného stĺpca chýba\n",
    "# mean = aritmetický priemer\n",
    "# std = smerodajná odchýlka, hovorí o veľkosti rozptylu dát oproti aritmetickému priemeru"
   ]
  },
  {
   "cell_type": "code",
   "execution_count": 65,
   "metadata": {},
   "outputs": [
    {
     "data": {
      "text/plain": [
       "patient_id      False\n",
       "indicator       False\n",
       "erytrocyty       True\n",
       "smoker          False\n",
       "weight          False\n",
       "trombocyty       True\n",
       "alp              True\n",
       "hbver            True\n",
       "etytr            True\n",
       "relationship    False\n",
       "ssn             False\n",
       "leukocyty        True\n",
       "ast              True\n",
       "hematokrit       True\n",
       "er-cv            True\n",
       "hemoglobin       True\n",
       "name            False\n",
       "alt              True\n",
       "dtype: bool"
      ]
     },
     "execution_count": 65,
     "metadata": {},
     "output_type": "execute_result"
    }
   ],
   "source": [
    "# TODO: Identifikácia problémov v dátach s navrhnutým riešením\n",
    "\n",
    "# premenovať prvý stĺpec Unnamed: 0 na id pacienta\n",
    "df = df.rename(columns={\"Unnamed: 0\": \"patient_id\"})\n",
    "\n",
    "# Stĺpec smoker má hodnoty yes/no/Y/N .. upravíme to na 1/0\n",
    "# pandas.unique(df.smoker)\n",
    "df.smoker = df.smoker.replace({\"Y\": 1, \"N\": 0, \"yes\": 1, \"no\": 0})\n",
    "\n",
    "# skontrolujeme, v ktorých stĺpcoch chýbajú dáta\n",
    "df.isnull().any()\n"
   ]
  },
  {
   "cell_type": "code",
   "execution_count": null,
   "metadata": {},
   "outputs": [],
   "source": []
  }
 ],
 "metadata": {
  "interpreter": {
   "hash": "642ff44bf530951a96c3306915cb4daf5a5fe317311f4fcb7ab0e3387b0391e1"
  },
  "kernelspec": {
   "display_name": "Python 3.8.8 64-bit ('base': conda)",
   "name": "python3"
  },
  "language_info": {
   "codemirror_mode": {
    "name": "ipython",
    "version": 3
   },
   "file_extension": ".py",
   "mimetype": "text/x-python",
   "name": "python",
   "nbconvert_exporter": "python",
   "pygments_lexer": "ipython3",
   "version": "3.8.8"
  },
  "orig_nbformat": 4
 },
 "nbformat": 4,
 "nbformat_minor": 2
}
