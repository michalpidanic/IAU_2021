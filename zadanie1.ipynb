{
 "cells": [
  {
   "cell_type": "code",
   "execution_count": 83,
   "metadata": {},
   "outputs": [],
   "source": [
    "import pandas\n",
    "import seaborn"
   ]
  },
  {
   "cell_type": "code",
   "execution_count": 84,
   "metadata": {},
   "outputs": [
    {
     "data": {
      "text/html": [
       "<div>\n",
       "<style scoped>\n",
       "    .dataframe tbody tr th:only-of-type {\n",
       "        vertical-align: middle;\n",
       "    }\n",
       "\n",
       "    .dataframe tbody tr th {\n",
       "        vertical-align: top;\n",
       "    }\n",
       "\n",
       "    .dataframe thead th {\n",
       "        text-align: right;\n",
       "    }\n",
       "</style>\n",
       "<table border=\"1\" class=\"dataframe\">\n",
       "  <thead>\n",
       "    <tr style=\"text-align: right;\">\n",
       "      <th></th>\n",
       "      <th>Unnamed: 0</th>\n",
       "      <th>indicator</th>\n",
       "      <th>erytrocyty</th>\n",
       "      <th>smoker</th>\n",
       "      <th>weight</th>\n",
       "      <th>trombocyty</th>\n",
       "      <th>alp</th>\n",
       "      <th>hbver</th>\n",
       "      <th>etytr</th>\n",
       "      <th>relationship</th>\n",
       "      <th>ssn</th>\n",
       "      <th>leukocyty</th>\n",
       "      <th>ast</th>\n",
       "      <th>hematokrit</th>\n",
       "      <th>er-cv</th>\n",
       "      <th>hemoglobin</th>\n",
       "      <th>name</th>\n",
       "      <th>alt</th>\n",
       "    </tr>\n",
       "  </thead>\n",
       "  <tbody>\n",
       "    <tr>\n",
       "      <th>9917</th>\n",
       "      <td>9917</td>\n",
       "      <td>1.0</td>\n",
       "      <td>7.92703</td>\n",
       "      <td>no</td>\n",
       "      <td>91.00875</td>\n",
       "      <td>7.32437</td>\n",
       "      <td>7.89392</td>\n",
       "      <td>5.58123</td>\n",
       "      <td>3.90769</td>\n",
       "      <td>single</td>\n",
       "      <td>222-02-8839</td>\n",
       "      <td>7.86491</td>\n",
       "      <td>32.48746</td>\n",
       "      <td>5.55737</td>\n",
       "      <td>68.86183</td>\n",
       "      <td>9.06266</td>\n",
       "      <td>Kathryn Joseph</td>\n",
       "      <td>1.23304</td>\n",
       "    </tr>\n",
       "    <tr>\n",
       "      <th>9918</th>\n",
       "      <td>9918</td>\n",
       "      <td>1.0</td>\n",
       "      <td>4.79625</td>\n",
       "      <td>no</td>\n",
       "      <td>2.41949</td>\n",
       "      <td>5.07378</td>\n",
       "      <td>71.42731</td>\n",
       "      <td>5.63469</td>\n",
       "      <td>4.55839</td>\n",
       "      <td>separated</td>\n",
       "      <td>178-80-3826</td>\n",
       "      <td>5.87616</td>\n",
       "      <td>66.92216</td>\n",
       "      <td>6.52756</td>\n",
       "      <td>44.38480</td>\n",
       "      <td>7.20484</td>\n",
       "      <td>Matthew Hampton</td>\n",
       "      <td>0.54876</td>\n",
       "    </tr>\n",
       "    <tr>\n",
       "      <th>9919</th>\n",
       "      <td>9919</td>\n",
       "      <td>1.0</td>\n",
       "      <td>7.75338</td>\n",
       "      <td>Y</td>\n",
       "      <td>52.16544</td>\n",
       "      <td>7.05607</td>\n",
       "      <td>70.20597</td>\n",
       "      <td>7.76704</td>\n",
       "      <td>5.08319</td>\n",
       "      <td>separated</td>\n",
       "      <td>117-91-4520</td>\n",
       "      <td>8.55812</td>\n",
       "      <td>57.18525</td>\n",
       "      <td>8.04531</td>\n",
       "      <td>36.38706</td>\n",
       "      <td>5.20149</td>\n",
       "      <td>James Nicholson</td>\n",
       "      <td>1.04357</td>\n",
       "    </tr>\n",
       "    <tr>\n",
       "      <th>9920</th>\n",
       "      <td>9920</td>\n",
       "      <td>0.0</td>\n",
       "      <td>7.75073</td>\n",
       "      <td>Y</td>\n",
       "      <td>15.83292</td>\n",
       "      <td>7.33310</td>\n",
       "      <td>78.44987</td>\n",
       "      <td>7.51062</td>\n",
       "      <td>8.47775</td>\n",
       "      <td>divoced</td>\n",
       "      <td>876-69-2400</td>\n",
       "      <td>7.29457</td>\n",
       "      <td>48.81077</td>\n",
       "      <td>7.64010</td>\n",
       "      <td>62.68887</td>\n",
       "      <td>5.52321</td>\n",
       "      <td>Michael Brown</td>\n",
       "      <td>1.18430</td>\n",
       "    </tr>\n",
       "    <tr>\n",
       "      <th>9921</th>\n",
       "      <td>9921</td>\n",
       "      <td>0.0</td>\n",
       "      <td>7.85219</td>\n",
       "      <td>no</td>\n",
       "      <td>65.28356</td>\n",
       "      <td>7.27391</td>\n",
       "      <td>35.52075</td>\n",
       "      <td>4.58541</td>\n",
       "      <td>5.34337</td>\n",
       "      <td>single</td>\n",
       "      <td>190-02-7522</td>\n",
       "      <td>6.48293</td>\n",
       "      <td>57.15174</td>\n",
       "      <td>7.03839</td>\n",
       "      <td>66.12604</td>\n",
       "      <td>4.31294</td>\n",
       "      <td>Carol Howard</td>\n",
       "      <td>1.35656</td>\n",
       "    </tr>\n",
       "  </tbody>\n",
       "</table>\n",
       "</div>"
      ],
      "text/plain": [
       "      Unnamed: 0  indicator  erytrocyty smoker    weight  trombocyty  \\\n",
       "9917        9917        1.0     7.92703     no  91.00875     7.32437   \n",
       "9918        9918        1.0     4.79625     no   2.41949     5.07378   \n",
       "9919        9919        1.0     7.75338      Y  52.16544     7.05607   \n",
       "9920        9920        0.0     7.75073      Y  15.83292     7.33310   \n",
       "9921        9921        0.0     7.85219     no  65.28356     7.27391   \n",
       "\n",
       "           alp    hbver    etytr relationship          ssn  leukocyty  \\\n",
       "9917   7.89392  5.58123  3.90769       single  222-02-8839    7.86491   \n",
       "9918  71.42731  5.63469  4.55839    separated  178-80-3826    5.87616   \n",
       "9919  70.20597  7.76704  5.08319    separated  117-91-4520    8.55812   \n",
       "9920  78.44987  7.51062  8.47775      divoced  876-69-2400    7.29457   \n",
       "9921  35.52075  4.58541  5.34337       single  190-02-7522    6.48293   \n",
       "\n",
       "           ast  hematokrit     er-cv  hemoglobin             name      alt  \n",
       "9917  32.48746     5.55737  68.86183     9.06266   Kathryn Joseph  1.23304  \n",
       "9918  66.92216     6.52756  44.38480     7.20484  Matthew Hampton  0.54876  \n",
       "9919  57.18525     8.04531  36.38706     5.20149  James Nicholson  1.04357  \n",
       "9920  48.81077     7.64010  62.68887     5.52321    Michael Brown  1.18430  \n",
       "9921  57.15174     7.03839  66.12604     4.31294     Carol Howard  1.35656  "
      ]
     },
     "execution_count": 84,
     "metadata": {},
     "output_type": "execute_result"
    }
   ],
   "source": [
    "# načítanie dát\n",
    "filename = \"032/labor.csv\"\n",
    "df = pandas.read_csv(filename, sep='\\t')\n",
    "df.tail()\n"
   ]
  },
  {
   "cell_type": "code",
   "execution_count": 85,
   "metadata": {},
   "outputs": [
    {
     "name": "stdout",
     "output_type": "stream",
     "text": [
      "Number of records  9922\n",
      "Number of attributes  18\n"
     ]
    }
   ],
   "source": [
    "# TODO: Základný opis dát spolu s ich charakteristikami\n",
    "row_count, column_count = df.shape\n",
    "\n",
    "# počet záznamov\n",
    "print(\"Number of records \", row_count)\n",
    "\n",
    "# počet atribútov\n",
    "print(\"Number of attributes \", column_count)"
   ]
  },
  {
   "cell_type": "code",
   "execution_count": 86,
   "metadata": {},
   "outputs": [
    {
     "name": "stdout",
     "output_type": "stream",
     "text": [
      "\n",
      "Types of atributes: \n",
      "Unnamed: 0        int64\n",
      "indicator       float64\n",
      "erytrocyty      float64\n",
      "smoker           object\n",
      "weight          float64\n",
      "trombocyty      float64\n",
      "alp             float64\n",
      "hbver           float64\n",
      "etytr           float64\n",
      "relationship     object\n",
      "ssn              object\n",
      "leukocyty       float64\n",
      "ast             float64\n",
      "hematokrit      float64\n",
      "er-cv           float64\n",
      "hemoglobin      float64\n",
      "name             object\n",
      "alt             float64\n",
      "dtype: object\n"
     ]
    }
   ],
   "source": [
    "# typy atribútov\n",
    "print(\"\\nTypes of atributes: \")\n",
    "print(df.dtypes)"
   ]
  },
  {
   "cell_type": "code",
   "execution_count": 87,
   "metadata": {},
   "outputs": [
    {
     "data": {
      "text/plain": [
       "<seaborn.axisgrid.FacetGrid at 0x2a5f4fa8640>"
      ]
     },
     "execution_count": 87,
     "metadata": {},
     "output_type": "execute_result"
    },
    {
     "data": {
      "image/png": "[encoded data removed]",
      "text/plain": [
       "<Figure size 412.125x360 with 1 Axes>"
      ]
     },
     "metadata": {
      "needs_background": "light"
     },
     "output_type": "display_data"
    },
    {
     "data": {
      "image/png": "[encoded data removed]",
      "text/plain": [
       "<Figure size 412.125x360 with 1 Axes>"
      ]
     },
     "metadata": {
      "needs_background": "light"
     },
     "output_type": "display_data"
    },
    {
     "data": {
      "image/png": "[encoded data removed]",
      "text/plain": [
       "<Figure size 412.125x360 with 1 Axes>"
      ]
     },
     "metadata": {
      "needs_background": "light"
     },
     "output_type": "display_data"
    },
    {
     "data": {
      "image/png": "[encoded data removed]",
      "text/plain": [
       "<Figure size 412.125x360 with 1 Axes>"
      ]
     },
     "metadata": {
      "needs_background": "light"
     },
     "output_type": "display_data"
    },
    {
     "data": {
      "image/png": "[encoded data removed]",
      "text/plain": [
       "<Figure size 412.125x360 with 1 Axes>"
      ]
     },
     "metadata": {
      "needs_background": "light"
     },
     "output_type": "display_data"
    },
    {
     "data": {
      "image/png": "[encoded data removed]",
      "text/plain": [
       "<Figure size 412.125x360 with 1 Axes>"
      ]
     },
     "metadata": {
      "needs_background": "light"
     },
     "output_type": "display_data"
    }
   ],
   "source": [
    "# distribúcia\n",
    "seaborn.displot(x = \"erytrocyty\", hue = \"indicator\", binwidth=0.1, data = df)\n",
    "seaborn.displot(x = \"weight\", hue = \"indicator\", binwidth=3, data = df)\n",
    "seaborn.displot(x = \"trombocyty\", hue = \"indicator\", binwidth=0.1, data = df)\n",
    "seaborn.displot(x = \"leukocyty\", hue = \"indicator\", binwidth=0.1, data = df)\n",
    "seaborn.displot(x = \"hematokrit\", hue = \"indicator\", binwidth=0.1, data = df)\n",
    "seaborn.displot(x = \"hemoglobin\", hue = \"indicator\", binwidth=0.1, data = df)"
   ]
  },
  {
   "cell_type": "code",
   "execution_count": 88,
   "metadata": {},
   "outputs": [
    {
     "name": "stdout",
     "output_type": "stream",
     "text": [
      "        Unnamed: 0    indicator   erytrocyty       weight   trombocyty  \\\n",
      "count  9922.000000  9922.000000  9892.000000  9922.000000  9893.000000   \n",
      "mean   4960.500000     0.643923     7.354813    70.033130     6.929616   \n",
      "std    2864.379019     0.478863     1.655995    35.360537     1.010643   \n",
      "min       0.000000     0.000000     0.695010   -68.224370     2.373590   \n",
      "25%    2480.250000     0.000000     6.341305    46.241730     6.257310   \n",
      "50%    4960.500000     1.000000     7.627100    70.063115     6.923910   \n",
      "75%    7440.750000     1.000000     8.480747    93.885320     7.610340   \n",
      "max    9921.000000     1.000000    12.598130   199.399280    10.907460   \n",
      "\n",
      "               alp        hbver        etytr    leukocyty          ast  \\\n",
      "count  9893.000000  9893.000000  9893.000000  9893.000000  9893.000000   \n",
      "mean     58.523833     6.924524     6.146493     6.929109    51.940039   \n",
      "std      25.531979     1.443274     1.615464     1.006582    12.668313   \n",
      "min       0.000000     1.413770     0.000000     2.813300     0.000000   \n",
      "25%      37.089460     5.735280     5.024650     6.242530    43.238440   \n",
      "50%      64.505430     6.764880     6.045330     6.929120    51.721660   \n",
      "75%      81.404220     8.129740     7.193810     7.618590    60.578170   \n",
      "max     100.000000    11.481020    11.721240    10.565480   100.000000   \n",
      "\n",
      "        hematokrit        er-cv   hemoglobin          alt  \n",
      "count  9892.000000  9893.000000  9893.000000  9893.000000  \n",
      "mean      6.947397    51.777510     6.507270     2.050173  \n",
      "std       0.990816    13.967717     1.565332     3.117817  \n",
      "min       2.993240     0.000000     1.733080     0.000000  \n",
      "25%       6.275028    42.627870     5.345560     0.742730  \n",
      "50%       6.931925    51.805920     6.398260     1.220830  \n",
      "75%       7.621490    61.182190     7.740200     2.138300  \n",
      "max      10.691170   100.000000    11.792360   100.000000  \n"
     ]
    }
   ],
   "source": [
    "# základné deskriptívne štatistiky\n",
    "print(df.describe())\n",
    "\n",
    "# count = počet záznamov .. ľahko vidíme, koľko dát z daného stĺpca chýba\n",
    "# mean = aritmetický priemer\n",
    "# std = smerodajná odchýlka, hovorí o veľkosti rozptylu dát oproti aritmetickému priemeru"
   ]
  },
  {
   "cell_type": "code",
   "execution_count": 89,
   "metadata": {},
   "outputs": [
    {
     "data": {
      "text/plain": [
       "patient_id      False\n",
       "indicator       False\n",
       "erytrocyty       True\n",
       "smoker          False\n",
       "weight          False\n",
       "trombocyty       True\n",
       "alp              True\n",
       "hbver            True\n",
       "etytr            True\n",
       "relationship    False\n",
       "ssn             False\n",
       "leukocyty        True\n",
       "ast              True\n",
       "hematokrit       True\n",
       "er-cv            True\n",
       "hemoglobin       True\n",
       "name            False\n",
       "alt              True\n",
       "dtype: bool"
      ]
     },
     "execution_count": 89,
     "metadata": {},
     "output_type": "execute_result"
    }
   ],
   "source": [
    "# TODO: Identifikácia problémov v dátach s navrhnutým riešením\n",
    "\n",
    "# premenovať prvý stĺpec Unnamed: 0 na id pacienta\n",
    "df = df.rename(columns={\"Unnamed: 0\": \"patient_id\"})\n",
    "\n",
    "# Stĺpec smoker má hodnoty yes/no/Y/N .. upravíme to na 1/0\n",
    "# pandas.unique(df.smoker)\n",
    "df.smoker = df.smoker.replace({\"Y\": 1, \"N\": 0, \"yes\": 1, \"no\": 0})\n",
    "\n",
    "# skontrolujeme, v ktorých stĺpcoch chýbajú dáta\n",
    "df.isnull().any()\n"
   ]
  },
  {
   "cell_type": "code",
   "execution_count": null,
   "metadata": {},
   "outputs": [],
   "source": []
  }
 ],
 "metadata": {
  "interpreter": {
   "hash": "dcacb0086e9a4f4eabd41c33bf4faac5ea0a3337ed3f5eff0680afa930572c04"
  },
  "kernelspec": {
   "display_name": "Python 3.9.7 64-bit",
   "name": "python3"
  },
  "language_info": {
   "codemirror_mode": {
    "name": "ipython",
    "version": 3
   },
   "file_extension": ".py",
   "mimetype": "text/x-python",
   "name": "python",
   "nbconvert_exporter": "python",
   "pygments_lexer": "ipython3",
   "version": "3.9.7"
  },
  "orig_nbformat": 4
 },
 "nbformat": 4,
 "nbformat_minor": 2
}
