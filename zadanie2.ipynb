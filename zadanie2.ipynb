{
 "cells": [
  {
   "cell_type": "markdown",
   "metadata": {},
   "source": [
    "# Projekt IAU  \n",
    "## 2. časť - Predspracovanie údajov \n",
    "### Vypracovali: Marek Adamovič, Michal Pidanič\n",
    "### Číslo datasetu: 32\n",
    "### Podiel práce: 50/50"
   ]
  },
  {
   "cell_type": "code",
   "execution_count": 1,
   "metadata": {},
   "outputs": [],
   "source": [
    "import pandas as pd\n",
    "import seaborn as sns\n",
    "import numpy as np\n",
    "import matplotlib.pyplot as plt\n",
    "import datetime as dt\n",
    "from sklearn.impute import KNNImputer\n",
    "from sklearn.model_selection import train_test_split\n",
    "from sklearn.preprocessing import MinMaxScaler\n",
    "from sklearn.preprocessing import PowerTransformer\n",
    "from sklearn.feature_selection import SelectKBest\n",
    "from sklearn.feature_selection import chi2\n",
    "from sklearn.base import TransformerMixin\n",
    "from sklearn.pipeline import Pipeline"
   ]
  },
  {
   "cell_type": "markdown",
   "metadata": {},
   "source": [
    "## 1. Integrácia a čistenie dát\n",
    "### Načítanie a výpis ukážky datasetu - labor.csv:"
   ]
  },
  {
   "cell_type": "code",
   "execution_count": 2,
   "metadata": {},
   "outputs": [
    {
     "data": {
      "text/html": [
       "<div>\n",
       "<style scoped>\n",
       "    .dataframe tbody tr th:only-of-type {\n",
       "        vertical-align: middle;\n",
       "    }\n",
       "\n",
       "    .dataframe tbody tr th {\n",
       "        vertical-align: top;\n",
       "    }\n",
       "\n",
       "    .dataframe thead th {\n",
       "        text-align: right;\n",
       "    }\n",
       "</style>\n",
       "<table border=\"1\" class=\"dataframe\">\n",
       "  <thead>\n",
       "    <tr style=\"text-align: right;\">\n",
       "      <th></th>\n",
       "      <th>Unnamed: 0</th>\n",
       "      <th>indicator</th>\n",
       "      <th>erytrocyty</th>\n",
       "      <th>smoker</th>\n",
       "      <th>weight</th>\n",
       "      <th>trombocyty</th>\n",
       "      <th>alp</th>\n",
       "      <th>hbver</th>\n",
       "      <th>etytr</th>\n",
       "      <th>relationship</th>\n",
       "      <th>ssn</th>\n",
       "      <th>leukocyty</th>\n",
       "      <th>ast</th>\n",
       "      <th>hematokrit</th>\n",
       "      <th>er-cv</th>\n",
       "      <th>hemoglobin</th>\n",
       "      <th>name</th>\n",
       "      <th>alt</th>\n",
       "    </tr>\n",
       "  </thead>\n",
       "  <tbody>\n",
       "    <tr>\n",
       "      <th>9917</th>\n",
       "      <td>9917</td>\n",
       "      <td>1.0</td>\n",
       "      <td>7.92703</td>\n",
       "      <td>no</td>\n",
       "      <td>91.00875</td>\n",
       "      <td>7.32437</td>\n",
       "      <td>7.89392</td>\n",
       "      <td>5.58123</td>\n",
       "      <td>3.90769</td>\n",
       "      <td>single</td>\n",
       "      <td>222-02-8839</td>\n",
       "      <td>7.86491</td>\n",
       "      <td>32.48746</td>\n",
       "      <td>5.55737</td>\n",
       "      <td>68.86183</td>\n",
       "      <td>9.06266</td>\n",
       "      <td>Kathryn Joseph</td>\n",
       "      <td>1.23304</td>\n",
       "    </tr>\n",
       "    <tr>\n",
       "      <th>9918</th>\n",
       "      <td>9918</td>\n",
       "      <td>1.0</td>\n",
       "      <td>4.79625</td>\n",
       "      <td>no</td>\n",
       "      <td>2.41949</td>\n",
       "      <td>5.07378</td>\n",
       "      <td>71.42731</td>\n",
       "      <td>5.63469</td>\n",
       "      <td>4.55839</td>\n",
       "      <td>separated</td>\n",
       "      <td>178-80-3826</td>\n",
       "      <td>5.87616</td>\n",
       "      <td>66.92216</td>\n",
       "      <td>6.52756</td>\n",
       "      <td>44.38480</td>\n",
       "      <td>7.20484</td>\n",
       "      <td>Matthew Hampton</td>\n",
       "      <td>0.54876</td>\n",
       "    </tr>\n",
       "    <tr>\n",
       "      <th>9919</th>\n",
       "      <td>9919</td>\n",
       "      <td>1.0</td>\n",
       "      <td>7.75338</td>\n",
       "      <td>Y</td>\n",
       "      <td>52.16544</td>\n",
       "      <td>7.05607</td>\n",
       "      <td>70.20597</td>\n",
       "      <td>7.76704</td>\n",
       "      <td>5.08319</td>\n",
       "      <td>separated</td>\n",
       "      <td>117-91-4520</td>\n",
       "      <td>8.55812</td>\n",
       "      <td>57.18525</td>\n",
       "      <td>8.04531</td>\n",
       "      <td>36.38706</td>\n",
       "      <td>5.20149</td>\n",
       "      <td>James Nicholson</td>\n",
       "      <td>1.04357</td>\n",
       "    </tr>\n",
       "    <tr>\n",
       "      <th>9920</th>\n",
       "      <td>9920</td>\n",
       "      <td>0.0</td>\n",
       "      <td>7.75073</td>\n",
       "      <td>Y</td>\n",
       "      <td>15.83292</td>\n",
       "      <td>7.33310</td>\n",
       "      <td>78.44987</td>\n",
       "      <td>7.51062</td>\n",
       "      <td>8.47775</td>\n",
       "      <td>divoced</td>\n",
       "      <td>876-69-2400</td>\n",
       "      <td>7.29457</td>\n",
       "      <td>48.81077</td>\n",
       "      <td>7.64010</td>\n",
       "      <td>62.68887</td>\n",
       "      <td>5.52321</td>\n",
       "      <td>Michael Brown</td>\n",
       "      <td>1.18430</td>\n",
       "    </tr>\n",
       "    <tr>\n",
       "      <th>9921</th>\n",
       "      <td>9921</td>\n",
       "      <td>0.0</td>\n",
       "      <td>7.85219</td>\n",
       "      <td>no</td>\n",
       "      <td>65.28356</td>\n",
       "      <td>7.27391</td>\n",
       "      <td>35.52075</td>\n",
       "      <td>4.58541</td>\n",
       "      <td>5.34337</td>\n",
       "      <td>single</td>\n",
       "      <td>190-02-7522</td>\n",
       "      <td>6.48293</td>\n",
       "      <td>57.15174</td>\n",
       "      <td>7.03839</td>\n",
       "      <td>66.12604</td>\n",
       "      <td>4.31294</td>\n",
       "      <td>Carol Howard</td>\n",
       "      <td>1.35656</td>\n",
       "    </tr>\n",
       "  </tbody>\n",
       "</table>\n",
       "</div>"
      ],
      "text/plain": [
       "      Unnamed: 0  indicator  erytrocyty smoker    weight  trombocyty  \\\n",
       "9917        9917        1.0     7.92703     no  91.00875     7.32437   \n",
       "9918        9918        1.0     4.79625     no   2.41949     5.07378   \n",
       "9919        9919        1.0     7.75338      Y  52.16544     7.05607   \n",
       "9920        9920        0.0     7.75073      Y  15.83292     7.33310   \n",
       "9921        9921        0.0     7.85219     no  65.28356     7.27391   \n",
       "\n",
       "           alp    hbver    etytr relationship          ssn  leukocyty  \\\n",
       "9917   7.89392  5.58123  3.90769       single  222-02-8839    7.86491   \n",
       "9918  71.42731  5.63469  4.55839    separated  178-80-3826    5.87616   \n",
       "9919  70.20597  7.76704  5.08319    separated  117-91-4520    8.55812   \n",
       "9920  78.44987  7.51062  8.47775      divoced  876-69-2400    7.29457   \n",
       "9921  35.52075  4.58541  5.34337       single  190-02-7522    6.48293   \n",
       "\n",
       "           ast  hematokrit     er-cv  hemoglobin             name      alt  \n",
       "9917  32.48746     5.55737  68.86183     9.06266   Kathryn Joseph  1.23304  \n",
       "9918  66.92216     6.52756  44.38480     7.20484  Matthew Hampton  0.54876  \n",
       "9919  57.18525     8.04531  36.38706     5.20149  James Nicholson  1.04357  \n",
       "9920  48.81077     7.64010  62.68887     5.52321    Michael Brown  1.18430  \n",
       "9921  57.15174     7.03839  66.12604     4.31294     Carol Howard  1.35656  "
      ]
     },
     "execution_count": 2,
     "metadata": {},
     "output_type": "execute_result"
    }
   ],
   "source": [
    "df_labor = pd.read_csv(\"data/labor.csv\", sep='\\t')\n",
    "df_labor.tail()\n"
   ]
  },
  {
   "cell_type": "markdown",
   "metadata": {},
   "source": [
    "### Načítanie a výpis ukážky datasetu - profiles.csv:"
   ]
  },
  {
   "cell_type": "code",
   "execution_count": 3,
   "metadata": {},
   "outputs": [
    {
     "data": {
      "text/html": [
       "<div>\n",
       "<style scoped>\n",
       "    .dataframe tbody tr th:only-of-type {\n",
       "        vertical-align: middle;\n",
       "    }\n",
       "\n",
       "    .dataframe tbody tr th {\n",
       "        vertical-align: top;\n",
       "    }\n",
       "\n",
       "    .dataframe thead th {\n",
       "        text-align: right;\n",
       "    }\n",
       "</style>\n",
       "<table border=\"1\" class=\"dataframe\">\n",
       "  <thead>\n",
       "    <tr style=\"text-align: right;\">\n",
       "      <th></th>\n",
       "      <th>Unnamed: 0</th>\n",
       "      <th>race</th>\n",
       "      <th>job</th>\n",
       "      <th>blood_group</th>\n",
       "      <th>birthdate</th>\n",
       "      <th>sex</th>\n",
       "      <th>name</th>\n",
       "      <th>company</th>\n",
       "      <th>ssn</th>\n",
       "      <th>residence</th>\n",
       "    </tr>\n",
       "  </thead>\n",
       "  <tbody>\n",
       "    <tr>\n",
       "      <th>3171</th>\n",
       "      <td>3171</td>\n",
       "      <td>White</td>\n",
       "      <td>Publishing copy</td>\n",
       "      <td>O+</td>\n",
       "      <td>2017-12-23</td>\n",
       "      <td>M</td>\n",
       "      <td>Gabriel Morgan</td>\n",
       "      <td>Barnett, Gomez and Johnson</td>\n",
       "      <td>801-84-3689</td>\n",
       "      <td>USNS Mcdaniel\\nFPO AP 59479</td>\n",
       "    </tr>\n",
       "    <tr>\n",
       "      <th>3172</th>\n",
       "      <td>3172</td>\n",
       "      <td>Black</td>\n",
       "      <td>IT trainer</td>\n",
       "      <td>O-</td>\n",
       "      <td>02/26/1966, 00:00:00</td>\n",
       "      <td>F</td>\n",
       "      <td>Kimberly Velasquez</td>\n",
       "      <td>Smith, Pennington and Wheeler</td>\n",
       "      <td>031-90-5782</td>\n",
       "      <td>890 Stephens Trail Suite 878\\nNew Laurentown, ...</td>\n",
       "    </tr>\n",
       "    <tr>\n",
       "      <th>3173</th>\n",
       "      <td>3173</td>\n",
       "      <td>White</td>\n",
       "      <td>Retail buyer</td>\n",
       "      <td>AB+</td>\n",
       "      <td>04/01/1943, 00:00:00</td>\n",
       "      <td>M</td>\n",
       "      <td>Luis Campbell</td>\n",
       "      <td>Hinton LLC</td>\n",
       "      <td>835-53-0272</td>\n",
       "      <td>2386 Claudia Place\\nRobertsmouth, UT 68376</td>\n",
       "    </tr>\n",
       "    <tr>\n",
       "      <th>3174</th>\n",
       "      <td>3174</td>\n",
       "      <td>White</td>\n",
       "      <td>Surveyor, commercial/residential</td>\n",
       "      <td>B-</td>\n",
       "      <td>12 Mar 1959</td>\n",
       "      <td>M</td>\n",
       "      <td>Gilbert Hunt</td>\n",
       "      <td>Smith, Hall and Hall</td>\n",
       "      <td>341-34-6796</td>\n",
       "      <td>39934 Montes Estate\\nDarrylfort, SC 18244</td>\n",
       "    </tr>\n",
       "    <tr>\n",
       "      <th>3175</th>\n",
       "      <td>3175</td>\n",
       "      <td>Asian</td>\n",
       "      <td>Social research officer, government</td>\n",
       "      <td>B+</td>\n",
       "      <td>1961-05-26</td>\n",
       "      <td>M</td>\n",
       "      <td>Richard Franklin</td>\n",
       "      <td>Smith-Cortez</td>\n",
       "      <td>029-79-0829</td>\n",
       "      <td>34480 Jackson Mountains Suite 817\\nTaylorland,...</td>\n",
       "    </tr>\n",
       "  </tbody>\n",
       "</table>\n",
       "</div>"
      ],
      "text/plain": [
       "      Unnamed: 0   race                                  job blood_group  \\\n",
       "3171        3171  White                      Publishing copy          O+   \n",
       "3172        3172  Black                           IT trainer          O-   \n",
       "3173        3173  White                         Retail buyer         AB+   \n",
       "3174        3174  White     Surveyor, commercial/residential          B-   \n",
       "3175        3175  Asian  Social research officer, government          B+   \n",
       "\n",
       "                 birthdate sex                name  \\\n",
       "3171            2017-12-23   M      Gabriel Morgan   \n",
       "3172  02/26/1966, 00:00:00   F  Kimberly Velasquez   \n",
       "3173  04/01/1943, 00:00:00   M       Luis Campbell   \n",
       "3174           12 Mar 1959   M        Gilbert Hunt   \n",
       "3175            1961-05-26   M    Richard Franklin   \n",
       "\n",
       "                            company          ssn  \\\n",
       "3171     Barnett, Gomez and Johnson  801-84-3689   \n",
       "3172  Smith, Pennington and Wheeler  031-90-5782   \n",
       "3173                     Hinton LLC  835-53-0272   \n",
       "3174           Smith, Hall and Hall  341-34-6796   \n",
       "3175                   Smith-Cortez  029-79-0829   \n",
       "\n",
       "                                              residence  \n",
       "3171                        USNS Mcdaniel\\nFPO AP 59479  \n",
       "3172  890 Stephens Trail Suite 878\\nNew Laurentown, ...  \n",
       "3173         2386 Claudia Place\\nRobertsmouth, UT 68376  \n",
       "3174          39934 Montes Estate\\nDarrylfort, SC 18244  \n",
       "3175  34480 Jackson Mountains Suite 817\\nTaylorland,...  "
      ]
     },
     "execution_count": 3,
     "metadata": {},
     "output_type": "execute_result"
    }
   ],
   "source": [
    "df_profiles = pd.read_csv(\"data/profiles.csv\", sep='\\t')\n",
    "df_profiles.tail()"
   ]
  },
  {
   "cell_type": "markdown",
   "metadata": {},
   "source": [
    "Keďže máme ľudí s rovnakým menom, nevieme jednoznačne priradiť hodnoty z druhého datasetu k prvému. Z toho dôvodu sa zbavíme všetkyćh mien, ktoré mali v datasete duplikát."
   ]
  },
  {
   "cell_type": "code",
   "execution_count": 4,
   "metadata": {},
   "outputs": [
    {
     "name": "stdout",
     "output_type": "stream",
     "text": [
      "67\n",
      "0\n"
     ]
    }
   ],
   "source": [
    "print(sum(df_profiles.name.duplicated()))\n",
    "df_profiles = df_profiles.drop_duplicates(subset=[\"name\"], keep=False)\n",
    "print(sum(df_profiles.name.duplicated()))"
   ]
  },
  {
   "cell_type": "markdown",
   "metadata": {},
   "source": [
    "Vytvoríme si nový stĺpec, do ktorého priradíme vek v rokoch, ktorý zistíme vďaka dátumu narodenia. Následne skontrolujeme pomocou describe, či je vek v prijateľnom intervale (teda že nemáme mínusové hodnoty alebo 200 ročných ľudí)"
   ]
  },
  {
   "cell_type": "code",
   "execution_count": 5,
   "metadata": {},
   "outputs": [
    {
     "data": {
      "text/plain": [
       "count    3048.000000\n",
       "mean       57.751320\n",
       "std        33.652901\n",
       "min         0.191781\n",
       "25%        28.617123\n",
       "50%        58.061644\n",
       "75%        87.022603\n",
       "max       116.235616\n",
       "Name: age, dtype: float64"
      ]
     },
     "execution_count": 5,
     "metadata": {},
     "output_type": "execute_result"
    }
   ],
   "source": [
    "df_profiles[\"age\"] = (pd.to_datetime(dt.date.today()) - pd.to_datetime(df_profiles.birthdate)).dt.days / 365\n",
    "#sum(df_profiles[\"age\"].isnull())\n",
    "df_profiles.age.describe()"
   ]
  },
  {
   "cell_type": "markdown",
   "metadata": {},
   "source": [
    "### Zlúčenie datasetov\n",
    "Z druhého datasetu zoberiem hodnoty, ktoré sa budú hodiť a podopĺňam ich do prvého datasetu. V druhom datasete sú informácie o pacientoch, v prvom sú ich jednotlivé vyšetrenie (teda každý pacient môže mať viacero vyšetrení). V oboch datasetoch mám údaj s menom, ktorý použijem na podopĺňanie (resp. merge) podstatných informácií do prvého datasetu. Používame inner merge, aby sme si nepomiešali dáta so záznamami, kde sme si neboli istí s menom (teda ponechávame len záznamy s menami, ktoré sa nachádzajú v oboch datasetoch)"
   ]
  },
  {
   "cell_type": "code",
   "execution_count": 6,
   "metadata": {},
   "outputs": [
    {
     "data": {
      "text/html": [
       "<div>\n",
       "<style scoped>\n",
       "    .dataframe tbody tr th:only-of-type {\n",
       "        vertical-align: middle;\n",
       "    }\n",
       "\n",
       "    .dataframe tbody tr th {\n",
       "        vertical-align: top;\n",
       "    }\n",
       "\n",
       "    .dataframe thead th {\n",
       "        text-align: right;\n",
       "    }\n",
       "</style>\n",
       "<table border=\"1\" class=\"dataframe\">\n",
       "  <thead>\n",
       "    <tr style=\"text-align: right;\">\n",
       "      <th></th>\n",
       "      <th>Unnamed: 0</th>\n",
       "      <th>indicator</th>\n",
       "      <th>erytrocyty</th>\n",
       "      <th>smoker</th>\n",
       "      <th>weight</th>\n",
       "      <th>trombocyty</th>\n",
       "      <th>alp</th>\n",
       "      <th>hbver</th>\n",
       "      <th>etytr</th>\n",
       "      <th>relationship</th>\n",
       "      <th>...</th>\n",
       "      <th>ast</th>\n",
       "      <th>hematokrit</th>\n",
       "      <th>er-cv</th>\n",
       "      <th>hemoglobin</th>\n",
       "      <th>name</th>\n",
       "      <th>alt</th>\n",
       "      <th>age</th>\n",
       "      <th>race</th>\n",
       "      <th>blood_group</th>\n",
       "      <th>sex</th>\n",
       "    </tr>\n",
       "  </thead>\n",
       "  <tbody>\n",
       "    <tr>\n",
       "      <th>9522</th>\n",
       "      <td>9531</td>\n",
       "      <td>1.0</td>\n",
       "      <td>5.85535</td>\n",
       "      <td>no</td>\n",
       "      <td>8.54091</td>\n",
       "      <td>8.33344</td>\n",
       "      <td>21.76298</td>\n",
       "      <td>6.00266</td>\n",
       "      <td>6.87170</td>\n",
       "      <td>divoced</td>\n",
       "      <td>...</td>\n",
       "      <td>48.51779</td>\n",
       "      <td>7.26248</td>\n",
       "      <td>33.27766</td>\n",
       "      <td>8.83903</td>\n",
       "      <td>Tammy Watson</td>\n",
       "      <td>0.58173</td>\n",
       "      <td>36.186301</td>\n",
       "      <td>Asian</td>\n",
       "      <td>A+</td>\n",
       "      <td>F</td>\n",
       "    </tr>\n",
       "    <tr>\n",
       "      <th>9523</th>\n",
       "      <td>9579</td>\n",
       "      <td>1.0</td>\n",
       "      <td>4.85677</td>\n",
       "      <td>Y</td>\n",
       "      <td>57.64992</td>\n",
       "      <td>7.18428</td>\n",
       "      <td>65.54763</td>\n",
       "      <td>5.68045</td>\n",
       "      <td>5.88206</td>\n",
       "      <td>divoced</td>\n",
       "      <td>...</td>\n",
       "      <td>71.11977</td>\n",
       "      <td>6.67504</td>\n",
       "      <td>47.89922</td>\n",
       "      <td>7.41273</td>\n",
       "      <td>Tammy Watson</td>\n",
       "      <td>0.72128</td>\n",
       "      <td>36.186301</td>\n",
       "      <td>Asian</td>\n",
       "      <td>A+</td>\n",
       "      <td>F</td>\n",
       "    </tr>\n",
       "    <tr>\n",
       "      <th>9524</th>\n",
       "      <td>9497</td>\n",
       "      <td>1.0</td>\n",
       "      <td>9.10675</td>\n",
       "      <td>Y</td>\n",
       "      <td>104.01626</td>\n",
       "      <td>6.20527</td>\n",
       "      <td>92.23894</td>\n",
       "      <td>8.92638</td>\n",
       "      <td>6.52953</td>\n",
       "      <td>married</td>\n",
       "      <td>...</td>\n",
       "      <td>55.15939</td>\n",
       "      <td>6.65886</td>\n",
       "      <td>53.88357</td>\n",
       "      <td>6.28955</td>\n",
       "      <td>James Newman</td>\n",
       "      <td>3.44338</td>\n",
       "      <td>63.805479</td>\n",
       "      <td>Indian</td>\n",
       "      <td>O-</td>\n",
       "      <td>M</td>\n",
       "    </tr>\n",
       "    <tr>\n",
       "      <th>9525</th>\n",
       "      <td>9598</td>\n",
       "      <td>1.0</td>\n",
       "      <td>6.46197</td>\n",
       "      <td>yes</td>\n",
       "      <td>88.36224</td>\n",
       "      <td>6.70467</td>\n",
       "      <td>62.86291</td>\n",
       "      <td>7.00409</td>\n",
       "      <td>4.55771</td>\n",
       "      <td>separated</td>\n",
       "      <td>...</td>\n",
       "      <td>49.81399</td>\n",
       "      <td>7.07576</td>\n",
       "      <td>65.07431</td>\n",
       "      <td>4.98532</td>\n",
       "      <td>James Newman</td>\n",
       "      <td>0.70602</td>\n",
       "      <td>63.805479</td>\n",
       "      <td>Indian</td>\n",
       "      <td>O-</td>\n",
       "      <td>M</td>\n",
       "    </tr>\n",
       "    <tr>\n",
       "      <th>9526</th>\n",
       "      <td>9861</td>\n",
       "      <td>1.0</td>\n",
       "      <td>4.17431</td>\n",
       "      <td>yes</td>\n",
       "      <td>94.47823</td>\n",
       "      <td>7.85548</td>\n",
       "      <td>52.15046</td>\n",
       "      <td>5.91274</td>\n",
       "      <td>5.55118</td>\n",
       "      <td>widowed</td>\n",
       "      <td>...</td>\n",
       "      <td>50.02959</td>\n",
       "      <td>6.45786</td>\n",
       "      <td>52.41603</td>\n",
       "      <td>7.78725</td>\n",
       "      <td>James Newman</td>\n",
       "      <td>0.44178</td>\n",
       "      <td>63.805479</td>\n",
       "      <td>Indian</td>\n",
       "      <td>O-</td>\n",
       "      <td>M</td>\n",
       "    </tr>\n",
       "  </tbody>\n",
       "</table>\n",
       "<p>5 rows × 22 columns</p>\n",
       "</div>"
      ],
      "text/plain": [
       "      Unnamed: 0  indicator  erytrocyty smoker     weight  trombocyty  \\\n",
       "9522        9531        1.0     5.85535     no    8.54091     8.33344   \n",
       "9523        9579        1.0     4.85677      Y   57.64992     7.18428   \n",
       "9524        9497        1.0     9.10675      Y  104.01626     6.20527   \n",
       "9525        9598        1.0     6.46197    yes   88.36224     6.70467   \n",
       "9526        9861        1.0     4.17431    yes   94.47823     7.85548   \n",
       "\n",
       "           alp    hbver    etytr relationship  ...       ast  hematokrit  \\\n",
       "9522  21.76298  6.00266  6.87170      divoced  ...  48.51779     7.26248   \n",
       "9523  65.54763  5.68045  5.88206      divoced  ...  71.11977     6.67504   \n",
       "9524  92.23894  8.92638  6.52953      married  ...  55.15939     6.65886   \n",
       "9525  62.86291  7.00409  4.55771    separated  ...  49.81399     7.07576   \n",
       "9526  52.15046  5.91274  5.55118      widowed  ...  50.02959     6.45786   \n",
       "\n",
       "         er-cv  hemoglobin          name      alt        age    race  \\\n",
       "9522  33.27766     8.83903  Tammy Watson  0.58173  36.186301   Asian   \n",
       "9523  47.89922     7.41273  Tammy Watson  0.72128  36.186301   Asian   \n",
       "9524  53.88357     6.28955  James Newman  3.44338  63.805479  Indian   \n",
       "9525  65.07431     4.98532  James Newman  0.70602  63.805479  Indian   \n",
       "9526  52.41603     7.78725  James Newman  0.44178  63.805479  Indian   \n",
       "\n",
       "      blood_group sex  \n",
       "9522           A+   F  \n",
       "9523           A+   F  \n",
       "9524           O-   M  \n",
       "9525           O-   M  \n",
       "9526           O-   M  \n",
       "\n",
       "[5 rows x 22 columns]"
      ]
     },
     "execution_count": 6,
     "metadata": {},
     "output_type": "execute_result"
    }
   ],
   "source": [
    "df_merged = pd.merge(df_labor, df_profiles[[\"age\", \"race\", \"blood_group\", \"sex\", \"name\"]], how=\"inner\", on=\"name\")\n",
    "df_merged.tail()\n"
   ]
  },
  {
   "cell_type": "markdown",
   "metadata": {},
   "source": [
    "Orežeme naše dáta na stĺpce, ktoré nás budú zaujímať (musíme brať do úvahy, že tieto stĺpce budú musieť byť numerické, tým pádom nemá zmysel ponechávať si meno, adresu a podobné jedinečné stĺpce)"
   ]
  },
  {
   "cell_type": "code",
   "execution_count": 7,
   "metadata": {},
   "outputs": [
    {
     "name": "stdout",
     "output_type": "stream",
     "text": [
      "['Unnamed: 0', 'indicator', 'erytrocyty', 'smoker', 'weight', 'trombocyty', 'alp', 'hbver', 'etytr', 'relationship', 'ssn', 'leukocyty', 'ast', 'hematokrit', 'er-cv', 'hemoglobin', 'name', 'alt', 'age', 'race', 'blood_group', 'sex']\n"
     ]
    },
    {
     "data": {
      "text/html": [
       "<div>\n",
       "<style scoped>\n",
       "    .dataframe tbody tr th:only-of-type {\n",
       "        vertical-align: middle;\n",
       "    }\n",
       "\n",
       "    .dataframe tbody tr th {\n",
       "        vertical-align: top;\n",
       "    }\n",
       "\n",
       "    .dataframe thead th {\n",
       "        text-align: right;\n",
       "    }\n",
       "</style>\n",
       "<table border=\"1\" class=\"dataframe\">\n",
       "  <thead>\n",
       "    <tr style=\"text-align: right;\">\n",
       "      <th></th>\n",
       "      <th>indicator</th>\n",
       "      <th>erytrocyty</th>\n",
       "      <th>smoker</th>\n",
       "      <th>weight</th>\n",
       "      <th>trombocyty</th>\n",
       "      <th>alp</th>\n",
       "      <th>hbver</th>\n",
       "      <th>etytr</th>\n",
       "      <th>relationship</th>\n",
       "      <th>leukocyty</th>\n",
       "      <th>ast</th>\n",
       "      <th>hematokrit</th>\n",
       "      <th>er-cv</th>\n",
       "      <th>hemoglobin</th>\n",
       "      <th>alt</th>\n",
       "      <th>age</th>\n",
       "      <th>race</th>\n",
       "      <th>blood_group</th>\n",
       "      <th>sex</th>\n",
       "    </tr>\n",
       "  </thead>\n",
       "  <tbody>\n",
       "    <tr>\n",
       "      <th>0</th>\n",
       "      <td>1.0</td>\n",
       "      <td>6.91767</td>\n",
       "      <td>yes</td>\n",
       "      <td>69.94161</td>\n",
       "      <td>6.50529</td>\n",
       "      <td>81.48900</td>\n",
       "      <td>7.30162</td>\n",
       "      <td>6.77497</td>\n",
       "      <td>separated</td>\n",
       "      <td>6.17532</td>\n",
       "      <td>60.01609</td>\n",
       "      <td>7.12529</td>\n",
       "      <td>44.43192</td>\n",
       "      <td>6.01513</td>\n",
       "      <td>0.88575</td>\n",
       "      <td>110.027397</td>\n",
       "      <td>White</td>\n",
       "      <td>A-</td>\n",
       "      <td>M</td>\n",
       "    </tr>\n",
       "    <tr>\n",
       "      <th>1</th>\n",
       "      <td>1.0</td>\n",
       "      <td>5.82364</td>\n",
       "      <td>N</td>\n",
       "      <td>33.81943</td>\n",
       "      <td>5.99771</td>\n",
       "      <td>25.69882</td>\n",
       "      <td>5.77807</td>\n",
       "      <td>6.84934</td>\n",
       "      <td>single</td>\n",
       "      <td>7.36588</td>\n",
       "      <td>69.69098</td>\n",
       "      <td>8.43203</td>\n",
       "      <td>43.79851</td>\n",
       "      <td>8.37144</td>\n",
       "      <td>0.63325</td>\n",
       "      <td>110.027397</td>\n",
       "      <td>White</td>\n",
       "      <td>A-</td>\n",
       "      <td>M</td>\n",
       "    </tr>\n",
       "    <tr>\n",
       "      <th>2</th>\n",
       "      <td>0.0</td>\n",
       "      <td>7.68967</td>\n",
       "      <td>Y</td>\n",
       "      <td>158.46433</td>\n",
       "      <td>6.13686</td>\n",
       "      <td>42.20104</td>\n",
       "      <td>7.04120</td>\n",
       "      <td>7.41343</td>\n",
       "      <td>nop</td>\n",
       "      <td>5.30585</td>\n",
       "      <td>58.21976</td>\n",
       "      <td>6.22831</td>\n",
       "      <td>24.11390</td>\n",
       "      <td>4.44659</td>\n",
       "      <td>1.11036</td>\n",
       "      <td>110.027397</td>\n",
       "      <td>White</td>\n",
       "      <td>A-</td>\n",
       "      <td>M</td>\n",
       "    </tr>\n",
       "    <tr>\n",
       "      <th>3</th>\n",
       "      <td>0.0</td>\n",
       "      <td>9.70624</td>\n",
       "      <td>no</td>\n",
       "      <td>117.24842</td>\n",
       "      <td>6.83699</td>\n",
       "      <td>43.40520</td>\n",
       "      <td>7.90707</td>\n",
       "      <td>7.82625</td>\n",
       "      <td>married</td>\n",
       "      <td>9.41015</td>\n",
       "      <td>56.79596</td>\n",
       "      <td>5.22638</td>\n",
       "      <td>48.17707</td>\n",
       "      <td>8.13065</td>\n",
       "      <td>6.09530</td>\n",
       "      <td>39.194521</td>\n",
       "      <td>White</td>\n",
       "      <td>AB-</td>\n",
       "      <td>M</td>\n",
       "    </tr>\n",
       "    <tr>\n",
       "      <th>4</th>\n",
       "      <td>0.0</td>\n",
       "      <td>9.32567</td>\n",
       "      <td>no</td>\n",
       "      <td>43.34611</td>\n",
       "      <td>5.43785</td>\n",
       "      <td>70.91584</td>\n",
       "      <td>8.98070</td>\n",
       "      <td>8.51237</td>\n",
       "      <td>married</td>\n",
       "      <td>5.78375</td>\n",
       "      <td>57.74685</td>\n",
       "      <td>7.99907</td>\n",
       "      <td>64.34808</td>\n",
       "      <td>7.19550</td>\n",
       "      <td>4.44838</td>\n",
       "      <td>39.194521</td>\n",
       "      <td>White</td>\n",
       "      <td>AB-</td>\n",
       "      <td>M</td>\n",
       "    </tr>\n",
       "    <tr>\n",
       "      <th>...</th>\n",
       "      <td>...</td>\n",
       "      <td>...</td>\n",
       "      <td>...</td>\n",
       "      <td>...</td>\n",
       "      <td>...</td>\n",
       "      <td>...</td>\n",
       "      <td>...</td>\n",
       "      <td>...</td>\n",
       "      <td>...</td>\n",
       "      <td>...</td>\n",
       "      <td>...</td>\n",
       "      <td>...</td>\n",
       "      <td>...</td>\n",
       "      <td>...</td>\n",
       "      <td>...</td>\n",
       "      <td>...</td>\n",
       "      <td>...</td>\n",
       "      <td>...</td>\n",
       "      <td>...</td>\n",
       "    </tr>\n",
       "    <tr>\n",
       "      <th>9522</th>\n",
       "      <td>1.0</td>\n",
       "      <td>5.85535</td>\n",
       "      <td>no</td>\n",
       "      <td>8.54091</td>\n",
       "      <td>8.33344</td>\n",
       "      <td>21.76298</td>\n",
       "      <td>6.00266</td>\n",
       "      <td>6.87170</td>\n",
       "      <td>divoced</td>\n",
       "      <td>5.90937</td>\n",
       "      <td>48.51779</td>\n",
       "      <td>7.26248</td>\n",
       "      <td>33.27766</td>\n",
       "      <td>8.83903</td>\n",
       "      <td>0.58173</td>\n",
       "      <td>36.186301</td>\n",
       "      <td>Asian</td>\n",
       "      <td>A+</td>\n",
       "      <td>F</td>\n",
       "    </tr>\n",
       "    <tr>\n",
       "      <th>9523</th>\n",
       "      <td>1.0</td>\n",
       "      <td>4.85677</td>\n",
       "      <td>Y</td>\n",
       "      <td>57.64992</td>\n",
       "      <td>7.18428</td>\n",
       "      <td>65.54763</td>\n",
       "      <td>5.68045</td>\n",
       "      <td>5.88206</td>\n",
       "      <td>divoced</td>\n",
       "      <td>7.09985</td>\n",
       "      <td>71.11977</td>\n",
       "      <td>6.67504</td>\n",
       "      <td>47.89922</td>\n",
       "      <td>7.41273</td>\n",
       "      <td>0.72128</td>\n",
       "      <td>36.186301</td>\n",
       "      <td>Asian</td>\n",
       "      <td>A+</td>\n",
       "      <td>F</td>\n",
       "    </tr>\n",
       "    <tr>\n",
       "      <th>9524</th>\n",
       "      <td>1.0</td>\n",
       "      <td>9.10675</td>\n",
       "      <td>Y</td>\n",
       "      <td>104.01626</td>\n",
       "      <td>6.20527</td>\n",
       "      <td>92.23894</td>\n",
       "      <td>8.92638</td>\n",
       "      <td>6.52953</td>\n",
       "      <td>married</td>\n",
       "      <td>6.42418</td>\n",
       "      <td>55.15939</td>\n",
       "      <td>6.65886</td>\n",
       "      <td>53.88357</td>\n",
       "      <td>6.28955</td>\n",
       "      <td>3.44338</td>\n",
       "      <td>63.805479</td>\n",
       "      <td>Indian</td>\n",
       "      <td>O-</td>\n",
       "      <td>M</td>\n",
       "    </tr>\n",
       "    <tr>\n",
       "      <th>9525</th>\n",
       "      <td>1.0</td>\n",
       "      <td>6.46197</td>\n",
       "      <td>yes</td>\n",
       "      <td>88.36224</td>\n",
       "      <td>6.70467</td>\n",
       "      <td>62.86291</td>\n",
       "      <td>7.00409</td>\n",
       "      <td>4.55771</td>\n",
       "      <td>separated</td>\n",
       "      <td>7.14077</td>\n",
       "      <td>49.81399</td>\n",
       "      <td>7.07576</td>\n",
       "      <td>65.07431</td>\n",
       "      <td>4.98532</td>\n",
       "      <td>0.70602</td>\n",
       "      <td>63.805479</td>\n",
       "      <td>Indian</td>\n",
       "      <td>O-</td>\n",
       "      <td>M</td>\n",
       "    </tr>\n",
       "    <tr>\n",
       "      <th>9526</th>\n",
       "      <td>1.0</td>\n",
       "      <td>4.17431</td>\n",
       "      <td>yes</td>\n",
       "      <td>94.47823</td>\n",
       "      <td>7.85548</td>\n",
       "      <td>52.15046</td>\n",
       "      <td>5.91274</td>\n",
       "      <td>5.55118</td>\n",
       "      <td>widowed</td>\n",
       "      <td>7.25933</td>\n",
       "      <td>50.02959</td>\n",
       "      <td>6.45786</td>\n",
       "      <td>52.41603</td>\n",
       "      <td>7.78725</td>\n",
       "      <td>0.44178</td>\n",
       "      <td>63.805479</td>\n",
       "      <td>Indian</td>\n",
       "      <td>O-</td>\n",
       "      <td>M</td>\n",
       "    </tr>\n",
       "  </tbody>\n",
       "</table>\n",
       "<p>9527 rows × 19 columns</p>\n",
       "</div>"
      ],
      "text/plain": [
       "      indicator  erytrocyty smoker     weight  trombocyty       alp    hbver  \\\n",
       "0           1.0     6.91767    yes   69.94161     6.50529  81.48900  7.30162   \n",
       "1           1.0     5.82364      N   33.81943     5.99771  25.69882  5.77807   \n",
       "2           0.0     7.68967      Y  158.46433     6.13686  42.20104  7.04120   \n",
       "3           0.0     9.70624     no  117.24842     6.83699  43.40520  7.90707   \n",
       "4           0.0     9.32567     no   43.34611     5.43785  70.91584  8.98070   \n",
       "...         ...         ...    ...        ...         ...       ...      ...   \n",
       "9522        1.0     5.85535     no    8.54091     8.33344  21.76298  6.00266   \n",
       "9523        1.0     4.85677      Y   57.64992     7.18428  65.54763  5.68045   \n",
       "9524        1.0     9.10675      Y  104.01626     6.20527  92.23894  8.92638   \n",
       "9525        1.0     6.46197    yes   88.36224     6.70467  62.86291  7.00409   \n",
       "9526        1.0     4.17431    yes   94.47823     7.85548  52.15046  5.91274   \n",
       "\n",
       "        etytr relationship  leukocyty       ast  hematokrit     er-cv  \\\n",
       "0     6.77497    separated    6.17532  60.01609     7.12529  44.43192   \n",
       "1     6.84934       single    7.36588  69.69098     8.43203  43.79851   \n",
       "2     7.41343          nop    5.30585  58.21976     6.22831  24.11390   \n",
       "3     7.82625      married    9.41015  56.79596     5.22638  48.17707   \n",
       "4     8.51237      married    5.78375  57.74685     7.99907  64.34808   \n",
       "...       ...          ...        ...       ...         ...       ...   \n",
       "9522  6.87170      divoced    5.90937  48.51779     7.26248  33.27766   \n",
       "9523  5.88206      divoced    7.09985  71.11977     6.67504  47.89922   \n",
       "9524  6.52953      married    6.42418  55.15939     6.65886  53.88357   \n",
       "9525  4.55771    separated    7.14077  49.81399     7.07576  65.07431   \n",
       "9526  5.55118      widowed    7.25933  50.02959     6.45786  52.41603   \n",
       "\n",
       "      hemoglobin      alt         age    race blood_group sex  \n",
       "0        6.01513  0.88575  110.027397   White          A-   M  \n",
       "1        8.37144  0.63325  110.027397   White          A-   M  \n",
       "2        4.44659  1.11036  110.027397   White          A-   M  \n",
       "3        8.13065  6.09530   39.194521   White         AB-   M  \n",
       "4        7.19550  4.44838   39.194521   White         AB-   M  \n",
       "...          ...      ...         ...     ...         ...  ..  \n",
       "9522     8.83903  0.58173   36.186301   Asian          A+   F  \n",
       "9523     7.41273  0.72128   36.186301   Asian          A+   F  \n",
       "9524     6.28955  3.44338   63.805479  Indian          O-   M  \n",
       "9525     4.98532  0.70602   63.805479  Indian          O-   M  \n",
       "9526     7.78725  0.44178   63.805479  Indian          O-   M  \n",
       "\n",
       "[9527 rows x 19 columns]"
      ]
     },
     "execution_count": 7,
     "metadata": {},
     "output_type": "execute_result"
    }
   ],
   "source": [
    "print(list(df_merged.columns))\n",
    "wanted = [\"indicator\", \"erytrocyty\", \"smoker\", \"weight\", \"trombocyty\", \"alp\", \"hbver\", \"etytr\", \"relationship\", \"leukocyty\", \"ast\", \"hematokrit\", \"er-cv\", \"hemoglobin\", \"alt\", \"age\", \"race\", \"blood_group\", \"sex\"]\n",
    "df_merged = df_merged[wanted]\n",
    "df_merged"
   ]
  },
  {
   "cell_type": "markdown",
   "metadata": {},
   "source": [
    "### Úprava záznamov na číselné hodnoty\n",
    "Stĺpec smoker má rôzne hodnoty yes/no/Y/N .. upravíme ich na rovnaké: 1/0"
   ]
  },
  {
   "cell_type": "code",
   "execution_count": 8,
   "metadata": {},
   "outputs": [
    {
     "name": "stdout",
     "output_type": "stream",
     "text": [
      "Old values:  ['yes' 'N' 'Y' 'no']\n",
      "New values:  [1 0]\n"
     ]
    }
   ],
   "source": [
    "print(\"Old values: \", pd.unique(df_merged.smoker))\n",
    "df_merged.smoker = df_merged.smoker.replace({\"Y\": 1, \"N\": 0, \"yes\": 1, \"no\": 0})\n",
    "print(\"New values: \", pd.unique(df_merged.smoker))"
   ]
  },
  {
   "cell_type": "markdown",
   "metadata": {},
   "source": [
    "Následne upravíme stĺpec \"relationship\" na číselné hodnoty. Taktiež treba dať pozor, že v stĺpci máme hodnoty \"divoced\" a nie \"divorced\".  \n",
    "Nové číselné hodnoty:\n",
    "- 0 = bez vzťahu\n",
    "- 1 = ženatý/vydatá\n",
    "- 2 = nežijúci v jednej domácnosti\n",
    "- 3 = rozvedený/á\n",
    "- 4 = vdovec/a"
   ]
  },
  {
   "cell_type": "code",
   "execution_count": 9,
   "metadata": {},
   "outputs": [
    {
     "name": "stdout",
     "output_type": "stream",
     "text": [
      "Old values:  ['separated' 'single' 'nop' 'married' 'divoced' 'widowed']\n",
      "New values:  [2 0 1 3 4]\n"
     ]
    }
   ],
   "source": [
    "print(\"Old values: \", pd.unique(df_merged.relationship))\n",
    "df_merged.relationship = df_merged.relationship.replace({\"single\": 0, \"nop\": 0, \"married\": 1, \"separated\": 2, \"divoced\": 3, \"widowed\": 4})\n",
    "print(\"New values: \", pd.unique(df_merged.relationship))"
   ]
  },
  {
   "cell_type": "markdown",
   "metadata": {},
   "source": [
    "Upravíme stĺpec \"race\" na číselné hodnoty.  \n",
    "Nové číselné hodnoty:  \n",
    "- 1 = beloch\n",
    "- 2 = aziat\n",
    "- 3 = černoch\n",
    "- 4 = ind\n",
    "- 5 = havajčan"
   ]
  },
  {
   "cell_type": "code",
   "execution_count": 10,
   "metadata": {},
   "outputs": [
    {
     "name": "stdout",
     "output_type": "stream",
     "text": [
      "Old values:  ['White' 'Asian' 'Hawaiian' 'Black' 'white' 'Indian' 'black' 'blsck']\n",
      "New values:  [1 2 5 3 4]\n"
     ]
    }
   ],
   "source": [
    "print(\"Old values: \", pd.unique(df_merged.race))\n",
    "df_merged.race = df_merged.race.replace({\"white\": 1, \"White\": 1, \"Asian\": 2, \"black\": 3, \"Black\": 3, \"blsck\": 3, \"Indian\": 4, \"Hawaiian\": 5})\n",
    "print(\"New values: \", pd.unique(df_merged.race))"
   ]
  },
  {
   "cell_type": "markdown",
   "metadata": {},
   "source": [
    "Upravíme stĺpec \"blood_group\" na číselné hodnoty.  \n",
    "Nové číselné hodnoty:  \n",
    "- 1 = krv typu 0 negative\n",
    "- 2 = krv typu 0 positive\n",
    "- 3 = krv typu A negative\n",
    "- 4 = krv typu A positive\n",
    "- 5 = krv typu B negative\n",
    "- 6 = krv typu B positive\n",
    "- 7 = krv typu AB negative\n",
    "- 8 = krv typu AB positive"
   ]
  },
  {
   "cell_type": "code",
   "execution_count": 11,
   "metadata": {},
   "outputs": [
    {
     "name": "stdout",
     "output_type": "stream",
     "text": [
      "Old values:  ['A-' 'AB-' 'AB+' 'O-' 'B-' 'A+' 'O+' 'B+']\n",
      "New values:  [3 7 8 1 5 4 2 6]\n"
     ]
    }
   ],
   "source": [
    "print(\"Old values: \", pd.unique(df_merged.blood_group))\n",
    "df_merged.blood_group = df_merged.blood_group.replace({\"O-\": 1, \"O+\": 2, \"A-\": 3, \"A+\": 4, \"B-\": 5, \"B+\": 6, \"AB-\": 7, \"AB+\": 8})\n",
    "print(\"New values: \", pd.unique(df_merged.blood_group))"
   ]
  },
  {
   "cell_type": "markdown",
   "metadata": {},
   "source": [
    "Upravíme stĺpec \"sex\" na číselné hodnoty.  \n",
    "Nové číselné hodnoty:  \n",
    "- 1 = muž\n",
    "- 2 = žena"
   ]
  },
  {
   "cell_type": "code",
   "execution_count": 12,
   "metadata": {},
   "outputs": [
    {
     "name": "stdout",
     "output_type": "stream",
     "text": [
      "Old values:  ['M' 'F']\n",
      "New values:  [1 2]\n"
     ]
    }
   ],
   "source": [
    "print(\"Old values: \", pd.unique(df_merged.sex))\n",
    "df_merged.sex = df_merged.sex.replace({\"M\": 1, \"F\": 2})\n",
    "print(\"New values: \", pd.unique(df_merged.sex))"
   ]
  },
  {
   "cell_type": "markdown",
   "metadata": {},
   "source": [
    "### Duplikáty\n",
    "Zbavíme sa duplikátov v našich dátach."
   ]
  },
  {
   "cell_type": "code",
   "execution_count": 13,
   "metadata": {},
   "outputs": [
    {
     "name": "stdout",
     "output_type": "stream",
     "text": [
      "Pocet zaznamov s duplikatmi: 9527\n",
      "Pocet zaznamov bez duplikatov: 9432\n"
     ]
    }
   ],
   "source": [
    "print(\"Pocet zaznamov s duplikatmi: \" + str(df_merged.shape[0]))\n",
    "df_merged = df_merged.drop_duplicates()\n",
    "print(\"Pocet zaznamov bez duplikatov: \" + str(df_merged.shape[0]))"
   ]
  },
  {
   "cell_type": "markdown",
   "metadata": {},
   "source": [
    "### Chybné dáta\n",
    "V stĺpci s váhou máme negatívne hodnoty, čo je nemožné. Mohli by sme v daných záznamoch nahradiť váhu s priemernou váhou v ostatných záznamoch. Avšak to by nemuselo byť vhodné napríklad pre počítanie korelácie s váhou. Taktiež je tu možnosť, že ak bola chybne nameraná váha, tak aj ostatné dáta v meraní sú \"nezmyselné\". Z tohto dôvodu (a taktiež pri uvážení, že týchto chybných dát nie je tak veľa) zvolíme zanedbanie takýchto dát."
   ]
  },
  {
   "cell_type": "code",
   "execution_count": 14,
   "metadata": {},
   "outputs": [
    {
     "name": "stdout",
     "output_type": "stream",
     "text": [
      "Pocet zaznamov ak uvazujeme aj zaznamy s chybnou vahou 9432\n",
      "Pocet zaznamov bez zaznamov s chybnou vahou 9197\n"
     ]
    }
   ],
   "source": [
    "print(\"Pocet zaznamov ak uvazujeme aj zaznamy s chybnou vahou\", df_merged.shape[0])\n",
    "df_merged = df_merged.drop(df_merged[df_merged.weight<=0].index)\n",
    "print(\"Pocet zaznamov bez zaznamov s chybnou vahou\", df_merged.shape[0])"
   ]
  },
  {
   "cell_type": "markdown",
   "metadata": {},
   "source": [
    "### Chýbajúce dáta\n",
    "Najskôr skontrolujeme, v ktorých stĺpcoch chýba koľko dát"
   ]
  },
  {
   "cell_type": "code",
   "execution_count": 15,
   "metadata": {},
   "outputs": [
    {
     "name": "stdout",
     "output_type": "stream",
     "text": [
      "indicator        0\n",
      "erytrocyty      26\n",
      "smoker           0\n",
      "weight           0\n",
      "trombocyty      29\n",
      "alp             27\n",
      "hbver           29\n",
      "etytr           29\n",
      "relationship     0\n",
      "leukocyty       27\n",
      "ast             29\n",
      "hematokrit      29\n",
      "er-cv           29\n",
      "hemoglobin      29\n",
      "alt             25\n",
      "age              0\n",
      "race             0\n",
      "blood_group      0\n",
      "sex              0\n",
      "dtype: int64\n"
     ]
    }
   ],
   "source": [
    "print(df_merged.isnull().sum())"
   ]
  },
  {
   "cell_type": "markdown",
   "metadata": {},
   "source": [
    "Každá metóda náhrady dát má svoje výhody a nevýhody. Často sa využíva aj zanedbanie záznamov s chýbajucími dátami. My sme zvolili štatistickú imputáciu pomocou priemeru a mediánu, teda že za chýbajúce dáta sa dosadia tieto hodnoty vypočítané z ostatných záznamov. Taktiež sme využili kNN imputer, ktorý nahrádza hodnoty pomocou hodnotou v tých istých stĺpcov v susedných záznamoch."
   ]
  },
  {
   "cell_type": "markdown",
   "metadata": {},
   "source": [
    "Imputácia pomocou priemeru:"
   ]
  },
  {
   "cell_type": "code",
   "execution_count": 16,
   "metadata": {},
   "outputs": [],
   "source": [
    "mean_replace = [\"erytrocyty\", \"hbver\", \"etytr\"]\n",
    "\n",
    "means = df_merged[mean_replace].mean()\n",
    "df_merged[mean_replace] = df_merged[mean_replace].fillna(value=means)"
   ]
  },
  {
   "cell_type": "markdown",
   "metadata": {},
   "source": [
    "Imputácia pomocou mediánu:"
   ]
  },
  {
   "cell_type": "code",
   "execution_count": 17,
   "metadata": {},
   "outputs": [],
   "source": [
    "median_replace = [\"leukocyty\", \"er-cv\", \"hemoglobin\"]\n",
    "medians = df_merged[median_replace].median()\n",
    "df_merged[median_replace] = df_merged[median_replace].fillna(value=medians)"
   ]
  },
  {
   "cell_type": "markdown",
   "metadata": {},
   "source": [
    "Na zvyšné stĺpce použijeme imputáciu pomocou kNN:"
   ]
  },
  {
   "cell_type": "code",
   "execution_count": 18,
   "metadata": {},
   "outputs": [],
   "source": [
    "knn = KNNImputer(n_neighbors=5)\n",
    "#potrebujeme si odlozit nazvy stlpcov, aby sme ich nestratili\n",
    "columns = df_merged.columns\n",
    "\n",
    "df_merged = pd.DataFrame(knn.fit_transform(df_merged))\n",
    "df_merged.columns = columns"
   ]
  },
  {
   "cell_type": "markdown",
   "metadata": {},
   "source": [
    "Kontrola, či sme sa zbavili všetkých chýbajúcich hodnôt"
   ]
  },
  {
   "cell_type": "code",
   "execution_count": 19,
   "metadata": {},
   "outputs": [
    {
     "name": "stdout",
     "output_type": "stream",
     "text": [
      "indicator       False\n",
      "erytrocyty      False\n",
      "smoker          False\n",
      "weight          False\n",
      "trombocyty      False\n",
      "alp             False\n",
      "hbver           False\n",
      "etytr           False\n",
      "relationship    False\n",
      "leukocyty       False\n",
      "ast             False\n",
      "hematokrit      False\n",
      "er-cv           False\n",
      "hemoglobin      False\n",
      "alt             False\n",
      "age             False\n",
      "race            False\n",
      "blood_group     False\n",
      "sex             False\n",
      "dtype: bool\n"
     ]
    }
   ],
   "source": [
    "print(df_merged.isnull().any())"
   ]
  },
  {
   "cell_type": "markdown",
   "metadata": {},
   "source": [
    "### Odchýlené hodnoty\n",
    "Odchýlené hodnoty sú (väčšinou) chybné merania alebo porušené dáta, ktoré sú markantne odlišné od zvyšných dát. Práve kvôli tomu sa ich potrebujeme zbaviť pred tým ako ideme nad dátami vykonávať analýzu. Na vyhľadanie odchýlených hodnôt sa často využíva metóda smerodajnej odchýlky, pri ktorej si pomocou odchýlky a priemeru spravíme \"výsek\", mimo ktorého všetky hodnoty zahodíme. Vďaka tomu, že sa používa smerodajná odchýlka, nie je táto metóda na spôsob, že vždy orežeme nejaké dáta. Ak sa v dátach nenachádzajú vychýlené hodnoty, tak nám táto metóda všetky dáta ponechá.\n",
    "Vychýlených hodnôt sa zbavíme."
   ]
  },
  {
   "cell_type": "code",
   "execution_count": 20,
   "metadata": {},
   "outputs": [
    {
     "name": "stdout",
     "output_type": "stream",
     "text": [
      "Pocet zaznamov s vychylenymi hodnotami v stlpci erytrocyty 9197\n",
      "Pocet zaznamov bez vychylenych hodnot v stlpci erytrocyty 9172\n"
     ]
    }
   ],
   "source": [
    "mean = df_merged.erytrocyty.mean()\n",
    "std = df_merged.erytrocyty.std()\n",
    "\n",
    "cut = std * 3\n",
    "low_limit = mean - cut\n",
    "up_limit = mean + cut \n",
    "\n",
    "print(\"Pocet zaznamov s vychylenymi hodnotami v stlpci erytrocyty\", df_merged.shape[0])\n",
    "df_merged = df_merged[(df_merged.erytrocyty > low_limit) & (df_merged.erytrocyty < up_limit)]\n",
    "print(\"Pocet zaznamov bez vychylenych hodnot v stlpci erytrocyty\", df_merged.shape[0])"
   ]
  },
  {
   "cell_type": "markdown",
   "metadata": {},
   "source": [
    "Ďalšou možnosťou je nahradenie vychýlených hodnôt s krajnými hodnotami rozdelenia. Tentokrát nájdeme vychýlené hodnoty pomocou tzv. \"interquartile range method\", ktorá si vypočíta pomocou quartilov hodnotu (v tomto prípade sme zvolili quantili na úrovniach 20 a 80, čím sme zvýšili toleranciu pre vychýlené hodnoty oproti klasickým 25 a 75), ktorú pripočítame/odpočítame od daných quantilov a tým nám vznikne hranica (tentokrát nechceme zahodiť hodnoty, ale nahradiť, na čo použijeme práve tieto hraničné hodnoty) oddeľujúca dáta od odchýlených hodnôt. Ak sú od seba hodnoty na quantiloch dostatočne vzdialené (teda máme veľkú smerodajnú odchýlku) a za nimi už nie sú veľmi rozdielne hodnoty, tak táto metóda nám ich nevyhodnotí ako vychýlené hodnoty. "
   ]
  },
  {
   "cell_type": "code",
   "execution_count": 21,
   "metadata": {},
   "outputs": [
    {
     "name": "stdout",
     "output_type": "stream",
     "text": [
      "V stlpci indicator sme nahradili 0 vychylenych hodnot\n",
      "V stlpci erytrocyty sme nahradili 0 vychylenych hodnot\n",
      "V stlpci smoker sme nahradili 0 vychylenych hodnot\n",
      "V stlpci weight sme nahradili 3 vychylenych hodnot\n",
      "V stlpci trombocyty sme nahradili 10 vychylenych hodnot\n",
      "V stlpci alp sme nahradili 0 vychylenych hodnot\n",
      "V stlpci hbver sme nahradili 2 vychylenych hodnot\n",
      "V stlpci etytr sme nahradili 5 vychylenych hodnot\n",
      "V stlpci relationship sme nahradili 0 vychylenych hodnot\n",
      "V stlpci leukocyty sme nahradili 9 vychylenych hodnot\n",
      "V stlpci ast sme nahradili 6 vychylenych hodnot\n",
      "V stlpci hematokrit sme nahradili 10 vychylenych hodnot\n",
      "V stlpci er-cv sme nahradili 6 vychylenych hodnot\n",
      "V stlpci hemoglobin sme nahradili 0 vychylenych hodnot\n",
      "V stlpci alt sme nahradili 594 vychylenych hodnot\n",
      "V stlpci age sme nahradili 0 vychylenych hodnot\n",
      "V stlpci race sme nahradili 0 vychylenych hodnot\n",
      "V stlpci blood_group sme nahradili 0 vychylenych hodnot\n",
      "V stlpci sex sme nahradili 0 vychylenych hodnot\n"
     ]
    }
   ],
   "source": [
    "for column in df_merged:\n",
    "    q1 = df_merged[column].quantile(0.20)\n",
    "    q3 = df_merged[column].quantile(0.80)\n",
    "    cut = (q3 - q1) * 1.5\n",
    "    minimum_check = q1 - cut\n",
    "    maximum_check = q3 + cut\n",
    "\n",
    "    print(\"V stlpci \" + column + \" sme nahradili \" + str(df_merged[(df_merged[column] < minimum_check) | (df_merged[column] > maximum_check)].shape[0]) + \" vychylenych hodnot\")\n",
    "    \n",
    "    #minimum\n",
    "    df_merged[column] = np.where(df_merged[column] < minimum_check, minimum_check, df_merged[column])\n",
    "\n",
    "    #maximum\n",
    "    df_merged[column] = np.where(df_merged[column] > maximum_check, maximum_check, df_merged[column])\n"
   ]
  },
  {
   "cell_type": "markdown",
   "metadata": {},
   "source": [
    "## 2. Realizácia predspracovania dát\n",
    "V prvom rade si rozdelíme dataset na trénovaciu množinu a testovaciu množinu v pomere 80/20, kde 80% dostane dataset určený na trénovanie a 20% dataset určený na testovanie"
   ]
  },
  {
   "cell_type": "code",
   "execution_count": 22,
   "metadata": {},
   "outputs": [
    {
     "name": "stdout",
     "output_type": "stream",
     "text": [
      "7337 1835\n"
     ]
    }
   ],
   "source": [
    "df_train, df_test = train_test_split(df_merged, test_size=0.2)\n",
    "print(df_train.shape[0], df_test.shape[0])"
   ]
  },
  {
   "cell_type": "markdown",
   "metadata": {},
   "source": [
    "Teraz aplikujeme na vybrané stĺpce transformáciu, aby viacej pripomínali normálne rozdelenie, keďže mnoho algoritmov strojového učenia pracuje lepšie práve na takýchto rozdeleniach. Použijeme metódu yeo-johnson, ktorá vie pracovať aj s negatívnymi hodnotami. Vďaka škálovaniu síce nemáme v dátach negatívne hodnoty, avšak metóda box-cox má problém aj s nulovými hodnotami, tým pádom ju nevieme použiť. Do algoritmu nepošleme všetky dáta, keďže nechceme mať normálne rozdelenie pri zakódovaných stĺpcoch, teda napríklad pri pohlaví, kde sú hodnoty 0/1 žiadané."
   ]
  },
  {
   "cell_type": "code",
   "execution_count": 23,
   "metadata": {},
   "outputs": [
    {
     "name": "stderr",
     "output_type": "stream",
     "text": [
      "<ipython-input-23-e1b03c18c586>:4: SettingWithCopyWarning: \n",
      "A value is trying to be set on a copy of a slice from a DataFrame.\n",
      "Try using .loc[row_indexer,col_indexer] = value instead\n",
      "\n",
      "See the caveats in the documentation: https://pandas.pydata.org/pandas-docs/stable/user_guide/indexing.html#returning-a-view-versus-a-copy\n",
      "  df_train[idx] = transformer.fit_transform(df_train[idx])\n",
      "/Users/michal/opt/anaconda3/lib/python3.8/site-packages/pandas/core/indexing.py:1637: SettingWithCopyWarning: \n",
      "A value is trying to be set on a copy of a slice from a DataFrame\n",
      "\n",
      "See the caveats in the documentation: https://pandas.pydata.org/pandas-docs/stable/user_guide/indexing.html#returning-a-view-versus-a-copy\n",
      "  self._setitem_single_block(indexer, value, name)\n",
      "/Users/michal/opt/anaconda3/lib/python3.8/site-packages/pandas/core/indexing.py:692: SettingWithCopyWarning: \n",
      "A value is trying to be set on a copy of a slice from a DataFrame\n",
      "\n",
      "See the caveats in the documentation: https://pandas.pydata.org/pandas-docs/stable/user_guide/indexing.html#returning-a-view-versus-a-copy\n",
      "  iloc._setitem_with_indexer(indexer, value, self.name)\n"
     ]
    },
    {
     "data": {
      "text/plain": [
       "array([[<AxesSubplot:title={'center':'indicator'}>,\n",
       "        <AxesSubplot:title={'center':'erytrocyty'}>,\n",
       "        <AxesSubplot:title={'center':'smoker'}>,\n",
       "        <AxesSubplot:title={'center':'weight'}>],\n",
       "       [<AxesSubplot:title={'center':'trombocyty'}>,\n",
       "        <AxesSubplot:title={'center':'alp'}>,\n",
       "        <AxesSubplot:title={'center':'hbver'}>,\n",
       "        <AxesSubplot:title={'center':'etytr'}>],\n",
       "       [<AxesSubplot:title={'center':'relationship'}>,\n",
       "        <AxesSubplot:title={'center':'leukocyty'}>,\n",
       "        <AxesSubplot:title={'center':'ast'}>,\n",
       "        <AxesSubplot:title={'center':'hematokrit'}>],\n",
       "       [<AxesSubplot:title={'center':'er-cv'}>,\n",
       "        <AxesSubplot:title={'center':'hemoglobin'}>,\n",
       "        <AxesSubplot:title={'center':'alt'}>,\n",
       "        <AxesSubplot:title={'center':'age'}>],\n",
       "       [<AxesSubplot:title={'center':'race'}>,\n",
       "        <AxesSubplot:title={'center':'blood_group'}>,\n",
       "        <AxesSubplot:title={'center':'sex'}>, <AxesSubplot:>]],\n",
       "      dtype=object)"
      ]
     },
     "execution_count": 23,
     "metadata": {},
     "output_type": "execute_result"
    },
    {
     "data": {
      "image/png": "[encoded data removed]",
      "text/plain": [
       "<Figure size 1296x864 with 20 Axes>"
      ]
     },
     "metadata": {
      "needs_background": "light"
     },
     "output_type": "display_data"
    },
    {
     "data": {
      "image/png": "[encoded data removed]",
      "text/plain": [
       "<Figure size 1296x864 with 20 Axes>"
      ]
     },
     "metadata": {
      "needs_background": "light"
     },
     "output_type": "display_data"
    }
   ],
   "source": [
    "df_train.hist(figsize=(18, 12), bins=50)\n",
    "transformer = PowerTransformer(method=\"yeo-johnson\")\n",
    "idx = [i for i in df_train.columns if i in [\"erytrocyty\", \"weight\", \"trombocyty\", \"alp\", \"hbver\", \"etytr\", \"leukocyty\", \"ast\", \"hematokrit\", \"er-cv\", \"hemoglobin\", \"alt\", \"age\"]]\n",
    "df_train[idx] = transformer.fit_transform(df_train[idx])\n",
    "df_train.hist(figsize=(18, 12), bins=50)"
   ]
  },
  {
   "cell_type": "markdown",
   "metadata": {},
   "source": [
    "Keďže atribúty máme v rôznych intervaloch, môže sa stať, že pri trénovaní by mal jeden z nich bezdôvodne väčší dopad len kvôli tomu, že jeho hodnoty nadobúdajú väčšie extrémy. To by v konečnom dôsledku mohlo zvýšiť chybovosť celého modelu. Z toho dôvodu sme sa rozhodli preškálovať všetky atribúty do intervalu 0-1."
   ]
  },
  {
   "cell_type": "code",
   "execution_count": 24,
   "metadata": {},
   "outputs": [
    {
     "data": {
      "text/html": [
       "<div>\n",
       "<style scoped>\n",
       "    .dataframe tbody tr th:only-of-type {\n",
       "        vertical-align: middle;\n",
       "    }\n",
       "\n",
       "    .dataframe tbody tr th {\n",
       "        vertical-align: top;\n",
       "    }\n",
       "\n",
       "    .dataframe thead th {\n",
       "        text-align: right;\n",
       "    }\n",
       "</style>\n",
       "<table border=\"1\" class=\"dataframe\">\n",
       "  <thead>\n",
       "    <tr style=\"text-align: right;\">\n",
       "      <th></th>\n",
       "      <th>indicator</th>\n",
       "      <th>erytrocyty</th>\n",
       "      <th>smoker</th>\n",
       "      <th>weight</th>\n",
       "      <th>trombocyty</th>\n",
       "      <th>alp</th>\n",
       "      <th>hbver</th>\n",
       "      <th>etytr</th>\n",
       "      <th>relationship</th>\n",
       "      <th>leukocyty</th>\n",
       "      <th>ast</th>\n",
       "      <th>hematokrit</th>\n",
       "      <th>er-cv</th>\n",
       "      <th>hemoglobin</th>\n",
       "      <th>alt</th>\n",
       "      <th>age</th>\n",
       "      <th>race</th>\n",
       "      <th>blood_group</th>\n",
       "      <th>sex</th>\n",
       "    </tr>\n",
       "  </thead>\n",
       "  <tbody>\n",
       "    <tr>\n",
       "      <th>7332</th>\n",
       "      <td>1.0</td>\n",
       "      <td>0.276250</td>\n",
       "      <td>1.0</td>\n",
       "      <td>0.238535</td>\n",
       "      <td>0.479088</td>\n",
       "      <td>0.140313</td>\n",
       "      <td>0.499307</td>\n",
       "      <td>0.508969</td>\n",
       "      <td>0.00</td>\n",
       "      <td>0.397543</td>\n",
       "      <td>0.875710</td>\n",
       "      <td>0.599473</td>\n",
       "      <td>0.955938</td>\n",
       "      <td>0.729548</td>\n",
       "      <td>0.385498</td>\n",
       "      <td>0.591867</td>\n",
       "      <td>0.5</td>\n",
       "      <td>1.000000</td>\n",
       "      <td>0.0</td>\n",
       "    </tr>\n",
       "    <tr>\n",
       "      <th>7333</th>\n",
       "      <td>1.0</td>\n",
       "      <td>0.167024</td>\n",
       "      <td>0.0</td>\n",
       "      <td>0.505281</td>\n",
       "      <td>0.414992</td>\n",
       "      <td>0.509429</td>\n",
       "      <td>0.505068</td>\n",
       "      <td>0.563833</td>\n",
       "      <td>0.25</td>\n",
       "      <td>0.618651</td>\n",
       "      <td>0.543447</td>\n",
       "      <td>0.725741</td>\n",
       "      <td>0.574839</td>\n",
       "      <td>0.629287</td>\n",
       "      <td>0.387390</td>\n",
       "      <td>0.531874</td>\n",
       "      <td>0.0</td>\n",
       "      <td>0.285714</td>\n",
       "      <td>1.0</td>\n",
       "    </tr>\n",
       "    <tr>\n",
       "      <th>7334</th>\n",
       "      <td>0.0</td>\n",
       "      <td>0.389131</td>\n",
       "      <td>1.0</td>\n",
       "      <td>0.650091</td>\n",
       "      <td>0.527019</td>\n",
       "      <td>0.828533</td>\n",
       "      <td>0.456495</td>\n",
       "      <td>0.484460</td>\n",
       "      <td>0.00</td>\n",
       "      <td>0.550600</td>\n",
       "      <td>0.333686</td>\n",
       "      <td>0.000000</td>\n",
       "      <td>0.141669</td>\n",
       "      <td>0.519886</td>\n",
       "      <td>0.722470</td>\n",
       "      <td>0.023584</td>\n",
       "      <td>0.5</td>\n",
       "      <td>0.428571</td>\n",
       "      <td>1.0</td>\n",
       "    </tr>\n",
       "    <tr>\n",
       "      <th>7335</th>\n",
       "      <td>0.0</td>\n",
       "      <td>0.474800</td>\n",
       "      <td>1.0</td>\n",
       "      <td>0.449719</td>\n",
       "      <td>0.512083</td>\n",
       "      <td>0.805007</td>\n",
       "      <td>0.677778</td>\n",
       "      <td>0.676811</td>\n",
       "      <td>0.75</td>\n",
       "      <td>0.176249</td>\n",
       "      <td>0.285034</td>\n",
       "      <td>0.748203</td>\n",
       "      <td>0.335912</td>\n",
       "      <td>0.441300</td>\n",
       "      <td>0.732950</td>\n",
       "      <td>0.341962</td>\n",
       "      <td>0.5</td>\n",
       "      <td>0.285714</td>\n",
       "      <td>1.0</td>\n",
       "    </tr>\n",
       "    <tr>\n",
       "      <th>7336</th>\n",
       "      <td>1.0</td>\n",
       "      <td>0.510716</td>\n",
       "      <td>0.0</td>\n",
       "      <td>0.731109</td>\n",
       "      <td>0.607169</td>\n",
       "      <td>0.807365</td>\n",
       "      <td>0.848853</td>\n",
       "      <td>0.641856</td>\n",
       "      <td>0.25</td>\n",
       "      <td>0.499235</td>\n",
       "      <td>0.681635</td>\n",
       "      <td>0.610930</td>\n",
       "      <td>0.380862</td>\n",
       "      <td>0.578476</td>\n",
       "      <td>0.821703</td>\n",
       "      <td>0.913890</td>\n",
       "      <td>0.5</td>\n",
       "      <td>0.000000</td>\n",
       "      <td>0.0</td>\n",
       "    </tr>\n",
       "  </tbody>\n",
       "</table>\n",
       "</div>"
      ],
      "text/plain": [
       "      indicator  erytrocyty  smoker    weight  trombocyty       alp     hbver  \\\n",
       "7332        1.0    0.276250     1.0  0.238535    0.479088  0.140313  0.499307   \n",
       "7333        1.0    0.167024     0.0  0.505281    0.414992  0.509429  0.505068   \n",
       "7334        0.0    0.389131     1.0  0.650091    0.527019  0.828533  0.456495   \n",
       "7335        0.0    0.474800     1.0  0.449719    0.512083  0.805007  0.677778   \n",
       "7336        1.0    0.510716     0.0  0.731109    0.607169  0.807365  0.848853   \n",
       "\n",
       "         etytr  relationship  leukocyty       ast  hematokrit     er-cv  \\\n",
       "7332  0.508969          0.00   0.397543  0.875710    0.599473  0.955938   \n",
       "7333  0.563833          0.25   0.618651  0.543447    0.725741  0.574839   \n",
       "7334  0.484460          0.00   0.550600  0.333686    0.000000  0.141669   \n",
       "7335  0.676811          0.75   0.176249  0.285034    0.748203  0.335912   \n",
       "7336  0.641856          0.25   0.499235  0.681635    0.610930  0.380862   \n",
       "\n",
       "      hemoglobin       alt       age  race  blood_group  sex  \n",
       "7332    0.729548  0.385498  0.591867   0.5     1.000000  0.0  \n",
       "7333    0.629287  0.387390  0.531874   0.0     0.285714  1.0  \n",
       "7334    0.519886  0.722470  0.023584   0.5     0.428571  1.0  \n",
       "7335    0.441300  0.732950  0.341962   0.5     0.285714  1.0  \n",
       "7336    0.578476  0.821703  0.913890   0.5     0.000000  0.0  "
      ]
     },
     "execution_count": 24,
     "metadata": {},
     "output_type": "execute_result"
    }
   ],
   "source": [
    "scaler = MinMaxScaler()\n",
    "\n",
    "# transform data\n",
    "df_train = pd.DataFrame(scaler.fit_transform(df_train), columns=df_train.columns) \n",
    "df_train.tail()"
   ]
  },
  {
   "cell_type": "markdown",
   "metadata": {},
   "source": [
    "## 3. Výber atribútov pre strojové učenie\n",
    "\n",
    "Atribúty pre strojové učenie vyberáme z pripraveného a predspracovaného datasetu df_train. Najprv si dataframe vypíšeme, aby sme videli s čím pracujeme."
   ]
  },
  {
   "cell_type": "code",
   "execution_count": 25,
   "metadata": {},
   "outputs": [
    {
     "data": {
      "text/html": [
       "<div>\n",
       "<style scoped>\n",
       "    .dataframe tbody tr th:only-of-type {\n",
       "        vertical-align: middle;\n",
       "    }\n",
       "\n",
       "    .dataframe tbody tr th {\n",
       "        vertical-align: top;\n",
       "    }\n",
       "\n",
       "    .dataframe thead th {\n",
       "        text-align: right;\n",
       "    }\n",
       "</style>\n",
       "<table border=\"1\" class=\"dataframe\">\n",
       "  <thead>\n",
       "    <tr style=\"text-align: right;\">\n",
       "      <th></th>\n",
       "      <th>indicator</th>\n",
       "      <th>erytrocyty</th>\n",
       "      <th>smoker</th>\n",
       "      <th>weight</th>\n",
       "      <th>trombocyty</th>\n",
       "      <th>alp</th>\n",
       "      <th>hbver</th>\n",
       "      <th>etytr</th>\n",
       "      <th>relationship</th>\n",
       "      <th>leukocyty</th>\n",
       "      <th>ast</th>\n",
       "      <th>hematokrit</th>\n",
       "      <th>er-cv</th>\n",
       "      <th>hemoglobin</th>\n",
       "      <th>alt</th>\n",
       "      <th>age</th>\n",
       "      <th>race</th>\n",
       "      <th>blood_group</th>\n",
       "      <th>sex</th>\n",
       "    </tr>\n",
       "  </thead>\n",
       "  <tbody>\n",
       "    <tr>\n",
       "      <th>0</th>\n",
       "      <td>1.0</td>\n",
       "      <td>0.422068</td>\n",
       "      <td>0.0</td>\n",
       "      <td>0.118135</td>\n",
       "      <td>0.404421</td>\n",
       "      <td>0.259645</td>\n",
       "      <td>0.478569</td>\n",
       "      <td>0.468939</td>\n",
       "      <td>0.25</td>\n",
       "      <td>0.697946</td>\n",
       "      <td>0.607222</td>\n",
       "      <td>0.557914</td>\n",
       "      <td>0.218371</td>\n",
       "      <td>0.680782</td>\n",
       "      <td>0.590052</td>\n",
       "      <td>0.335911</td>\n",
       "      <td>0.75</td>\n",
       "      <td>0.857143</td>\n",
       "      <td>1.0</td>\n",
       "    </tr>\n",
       "    <tr>\n",
       "      <th>1</th>\n",
       "      <td>0.0</td>\n",
       "      <td>0.510668</td>\n",
       "      <td>0.0</td>\n",
       "      <td>0.115528</td>\n",
       "      <td>0.440123</td>\n",
       "      <td>0.899610</td>\n",
       "      <td>0.788000</td>\n",
       "      <td>0.783522</td>\n",
       "      <td>0.75</td>\n",
       "      <td>0.343457</td>\n",
       "      <td>0.554143</td>\n",
       "      <td>0.453553</td>\n",
       "      <td>0.678166</td>\n",
       "      <td>0.498851</td>\n",
       "      <td>0.808982</td>\n",
       "      <td>0.344662</td>\n",
       "      <td>0.50</td>\n",
       "      <td>0.714286</td>\n",
       "      <td>0.0</td>\n",
       "    </tr>\n",
       "    <tr>\n",
       "      <th>2</th>\n",
       "      <td>1.0</td>\n",
       "      <td>0.573018</td>\n",
       "      <td>1.0</td>\n",
       "      <td>0.431650</td>\n",
       "      <td>0.467068</td>\n",
       "      <td>0.709140</td>\n",
       "      <td>0.702603</td>\n",
       "      <td>0.525737</td>\n",
       "      <td>1.00</td>\n",
       "      <td>0.397836</td>\n",
       "      <td>0.984926</td>\n",
       "      <td>0.661974</td>\n",
       "      <td>0.654703</td>\n",
       "      <td>0.389492</td>\n",
       "      <td>0.918931</td>\n",
       "      <td>0.648135</td>\n",
       "      <td>0.50</td>\n",
       "      <td>0.714286</td>\n",
       "      <td>1.0</td>\n",
       "    </tr>\n",
       "    <tr>\n",
       "      <th>3</th>\n",
       "      <td>1.0</td>\n",
       "      <td>0.807231</td>\n",
       "      <td>0.0</td>\n",
       "      <td>0.303412</td>\n",
       "      <td>0.412137</td>\n",
       "      <td>0.839381</td>\n",
       "      <td>0.859854</td>\n",
       "      <td>0.639347</td>\n",
       "      <td>1.00</td>\n",
       "      <td>0.390659</td>\n",
       "      <td>0.607439</td>\n",
       "      <td>0.616594</td>\n",
       "      <td>0.217965</td>\n",
       "      <td>0.508468</td>\n",
       "      <td>1.000000</td>\n",
       "      <td>0.905913</td>\n",
       "      <td>0.75</td>\n",
       "      <td>0.000000</td>\n",
       "      <td>0.0</td>\n",
       "    </tr>\n",
       "    <tr>\n",
       "      <th>4</th>\n",
       "      <td>0.0</td>\n",
       "      <td>0.360312</td>\n",
       "      <td>1.0</td>\n",
       "      <td>0.307338</td>\n",
       "      <td>0.206516</td>\n",
       "      <td>0.622511</td>\n",
       "      <td>0.623243</td>\n",
       "      <td>0.787548</td>\n",
       "      <td>0.75</td>\n",
       "      <td>0.594827</td>\n",
       "      <td>0.929926</td>\n",
       "      <td>0.337798</td>\n",
       "      <td>0.766557</td>\n",
       "      <td>0.365249</td>\n",
       "      <td>0.491583</td>\n",
       "      <td>0.712615</td>\n",
       "      <td>0.00</td>\n",
       "      <td>0.857143</td>\n",
       "      <td>1.0</td>\n",
       "    </tr>\n",
       "  </tbody>\n",
       "</table>\n",
       "</div>"
      ],
      "text/plain": [
       "   indicator  erytrocyty  smoker    weight  trombocyty       alp     hbver  \\\n",
       "0        1.0    0.422068     0.0  0.118135    0.404421  0.259645  0.478569   \n",
       "1        0.0    0.510668     0.0  0.115528    0.440123  0.899610  0.788000   \n",
       "2        1.0    0.573018     1.0  0.431650    0.467068  0.709140  0.702603   \n",
       "3        1.0    0.807231     0.0  0.303412    0.412137  0.839381  0.859854   \n",
       "4        0.0    0.360312     1.0  0.307338    0.206516  0.622511  0.623243   \n",
       "\n",
       "      etytr  relationship  leukocyty       ast  hematokrit     er-cv  \\\n",
       "0  0.468939          0.25   0.697946  0.607222    0.557914  0.218371   \n",
       "1  0.783522          0.75   0.343457  0.554143    0.453553  0.678166   \n",
       "2  0.525737          1.00   0.397836  0.984926    0.661974  0.654703   \n",
       "3  0.639347          1.00   0.390659  0.607439    0.616594  0.217965   \n",
       "4  0.787548          0.75   0.594827  0.929926    0.337798  0.766557   \n",
       "\n",
       "   hemoglobin       alt       age  race  blood_group  sex  \n",
       "0    0.680782  0.590052  0.335911  0.75     0.857143  1.0  \n",
       "1    0.498851  0.808982  0.344662  0.50     0.714286  0.0  \n",
       "2    0.389492  0.918931  0.648135  0.50     0.714286  1.0  \n",
       "3    0.508468  1.000000  0.905913  0.75     0.000000  0.0  \n",
       "4    0.365249  0.491583  0.712615  0.00     0.857143  1.0  "
      ]
     },
     "execution_count": 25,
     "metadata": {},
     "output_type": "execute_result"
    }
   ],
   "source": [
    "df_train.head()"
   ]
  },
  {
   "cell_type": "markdown",
   "metadata": {},
   "source": [
    "Na základe výpisu vieme, kde sa ktorý atribút nachádza. Naše vstupné atribúty do feature selection sú všetky stĺpce okrem atribútu \"indicator\", ktorý sa nachádza v 0tom stĺpci. Z datasetu si teda môžeme vytiahnuť X - atribúty, z ktorých vyberáreme také, na ktorých najviac závisí y - \"indicator\", čiže náš cieľový atribút."
   ]
  },
  {
   "cell_type": "code",
   "execution_count": 26,
   "metadata": {},
   "outputs": [],
   "source": [
    "X = df_train.iloc[:, 1:-1]  \n",
    "y = df_train.iloc[:,0]"
   ]
  },
  {
   "cell_type": "markdown",
   "metadata": {},
   "source": [
    "Pre lepšiu vizualizáciu závislostí medzi jednotlivými atribútmi si pomocu korelačnej matice a heatmapy zobrazíme vzťahy. Konkrétne nás zaujíma len riadok \"indicator\"."
   ]
  },
  {
   "cell_type": "code",
   "execution_count": 27,
   "metadata": {},
   "outputs": [
    {
     "data": {
      "text/plain": [
       "<AxesSubplot:>"
      ]
     },
     "execution_count": 27,
     "metadata": {},
     "output_type": "execute_result"
    },
    {
     "data": {
      "image/png": "[encoded data removed]",
      "text/plain": [
       "<Figure size 1440x1080 with 2 Axes>"
      ]
     },
     "metadata": {
      "needs_background": "light"
     },
     "output_type": "display_data"
    }
   ],
   "source": [
    "corrmat = df_train.corr()\n",
    "top_corr_features = corrmat.index\n",
    "fig, ax = plt.subplots(figsize=(20,15))\n",
    "\n",
    "sns.heatmap(df_train[top_corr_features].corr(), annot=True, fmt = \".3f\", cmap = \"Blues\")"
   ]
  },
  {
   "cell_type": "markdown",
   "metadata": {},
   "source": [
    "Prejdeme k samotnému \"feature selection\". Ako metódu pre feature selection sme zvolili SelectKBest() z hľadiska jednoduchosti a vhodnosti pre daný prípad - \"SelectKBest can be used to select those features that have the strongest relationship with the output variable\".\n",
    "\n",
    "Ako štatistickú testovaciu metódu sme zvolili chi_squared, pre vybranie 10tich najlepších atribútov. Následne sme si výsledok vypísali."
   ]
  },
  {
   "cell_type": "code",
   "execution_count": 28,
   "metadata": {},
   "outputs": [
    {
     "name": "stdout",
     "output_type": "stream",
     "text": [
      "       Attribute      Score\n",
      "4            alp  59.459331\n",
      "0     erytrocyty  47.369323\n",
      "12    hemoglobin  40.937384\n",
      "13           alt  37.956589\n",
      "6          etytr  29.104859\n",
      "7   relationship   0.373865\n",
      "14           age   0.231269\n",
      "15          race   0.221183\n",
      "16   blood_group   0.103047\n",
      "2         weight   0.051642\n"
     ]
    }
   ],
   "source": [
    "bestfeatures = SelectKBest(score_func=chi2, k=10)\n",
    "fit = bestfeatures.fit(X,y)\n",
    "dfscores = pd.DataFrame(fit.scores_)\n",
    "dfcolumns = pd.DataFrame(X.columns)\n",
    "\n",
    "featureScores = pd.concat([dfcolumns,dfscores],axis=1)\n",
    "featureScores.columns = ['Attribute','Score']\n",
    "print(featureScores.nlargest(10,'Score'))"
   ]
  },
  {
   "cell_type": "markdown",
   "metadata": {},
   "source": [
    "V 10tich najlepších atribútoch sa však nachádzajú aj také ktoré majú zanedbateľnú závislosť tj. Score < 1. Tieto hodnoty nebudeme uvažovať, preto môžeme spraviť feature selection ešte raz, tentokrát len pre 5 najlepších."
   ]
  },
  {
   "cell_type": "code",
   "execution_count": 29,
   "metadata": {},
   "outputs": [
    {
     "name": "stdout",
     "output_type": "stream",
     "text": [
      "     Attribute      Score\n",
      "4          alp  59.459331\n",
      "0   erytrocyty  47.369323\n",
      "12  hemoglobin  40.937384\n",
      "13         alt  37.956589\n",
      "6        etytr  29.104859\n"
     ]
    }
   ],
   "source": [
    "bestfeatures = SelectKBest(score_func=chi2, k=5)\n",
    "fit = bestfeatures.fit(X,y)\n",
    "dfscores = pd.DataFrame(fit.scores_)\n",
    "dfcolumns = pd.DataFrame(X.columns)\n",
    "\n",
    "featureScores = pd.concat([dfcolumns,dfscores],axis=1)\n",
    "featureScores.columns = ['Attribute','Score']\n",
    "print(featureScores.nlargest(5,'Score'))"
   ]
  },
  {
   "cell_type": "markdown",
   "metadata": {},
   "source": [
    "## 4. Replikovateľnosť \n",
    "\n",
    "Pre znovupoužiteľnosť predspracovania údajov sme si nami použité funkcie zapísali do tried a pipeliny, ktorú budeme používať v ďalšej časti zadania."
   ]
  },
  {
   "cell_type": "code",
   "execution_count": 30,
   "metadata": {},
   "outputs": [],
   "source": [
    "class MergeTransformer(TransformerMixin):\n",
    "    def __init__(self, df_profiles, df_labor):\n",
    "        self.df_profiles = df_profiles\n",
    "        self.df_labor = df_labor\n",
    "\n",
    "    def fit(self, data, y=None):\n",
    "        return self\n",
    "\n",
    "    def transform(self, data, y=None):\n",
    "        self.df_profiles = self.df_profiles.drop_duplicates(subset=[\"name\"], keep=False)\n",
    "        self.df_profiles[\"age\"] = (pd.to_datetime(dt.date.today()) - pd.to_datetime(self.df_profiles.birthdate)).dt.days / 365\n",
    "        data = pd.merge(self.df_labor, self.df_profiles[[\"age\", \"race\", \"blood_group\", \"sex\", \"name\"]], how=\"inner\", on=\"name\")\n",
    "        wanted = [\"indicator\", \"erytrocyty\", \"smoker\", \"weight\", \"trombocyty\", \"alp\", \"hbver\", \"etytr\", \"relationship\", \"leukocyty\", \"ast\", \"hematokrit\", \"er-cv\", \"hemoglobin\", \"alt\", \"age\", \"race\", \"blood_group\", \"sex\"]\n",
    "        data = data[wanted]\n",
    "        return data"
   ]
  },
  {
   "cell_type": "code",
   "execution_count": 31,
   "metadata": {},
   "outputs": [],
   "source": [
    "class UniqueNumAttributeTransformer(TransformerMixin):\n",
    "    def fit(self, data, y=None):\n",
    "        return self\n",
    "\n",
    "    def transform(self, data, y=None):\n",
    "        data.smoker = data.smoker.replace({\"Y\": 1, \"N\": 0, \"yes\": 1, \"no\": 0})\n",
    "        data.relationship = data.relationship.replace({\"single\": 0, \"nop\": 0, \"married\": 1, \"separated\": 2, \"divoced\": 3, \"widowed\": 4})\n",
    "        data.race = data.race.replace({\"white\": 1, \"White\": 1, \"Asian\": 2, \"black\": 3, \"Black\": 3, \"blsck\": 3, \"Indian\": 4, \"Hawaiian\": 5})\n",
    "        data.blood_group = data.blood_group.replace({\"O-\": 1, \"O+\": 2, \"A-\": 3, \"A+\": 4, \"B-\": 5, \"B+\": 6, \"AB-\": 7, \"AB+\": 8})\n",
    "        data.sex = data.sex.replace({\"M\": 1, \"F\": 2})\n",
    "        data = data.drop_duplicates()\n",
    "        return data\n"
   ]
  },
  {
   "cell_type": "code",
   "execution_count": 32,
   "metadata": {},
   "outputs": [],
   "source": [
    "# @param [\"erytrocyty\", \"hbver\", \"etytr\"]\n",
    "class MeanImputeTransformer(TransformerMixin):\n",
    "    def __init__(self, columns):\n",
    "        self.columns = columns\n",
    "\n",
    "    def fit(self, data, y=None):\n",
    "        return self\n",
    "\n",
    "    def transform(self, data, y=None):\n",
    "        means = data[self.columns].mean()\n",
    "        data[self.columns] = data[self.columns].fillna(value=means)\n",
    "        return data"
   ]
  },
  {
   "cell_type": "code",
   "execution_count": 33,
   "metadata": {},
   "outputs": [],
   "source": [
    "# @param [\"leukocyty\", \"er-cv\", \"hemoglobin\"]\n",
    "class MedianImputeTransformer(TransformerMixin):\n",
    "    def __init__(self, columns):\n",
    "        self.columns = columns\n",
    "\n",
    "    def fit(self, data, y=None):\n",
    "        return self\n",
    "\n",
    "    def transform(self, data, y=None):\n",
    "        medians = data[self.columns].median()\n",
    "        data[self.columns] = data[self.columns].fillna(value=medians)\n",
    "        return data"
   ]
  },
  {
   "cell_type": "code",
   "execution_count": 34,
   "metadata": {},
   "outputs": [],
   "source": [
    "class KNNImputeTransformer(TransformerMixin):\n",
    "    def fit(self, data, y=None):\n",
    "        return self\n",
    "\n",
    "    def transform(self, data, y=None):\n",
    "        knn = KNNImputer(n_neighbors=5)\n",
    "        columns = data.columns\n",
    "        data = pd.DataFrame(knn.fit_transform(data))\n",
    "        data.columns = columns\n",
    "        return data"
   ]
  },
  {
   "cell_type": "code",
   "execution_count": 35,
   "metadata": {},
   "outputs": [],
   "source": [
    "class RemoveOutliersTransformer(TransformerMixin):\n",
    "    def fit(self, data, y=None):\n",
    "        return self\n",
    "\n",
    "    def transform(self, data, y=None):\n",
    "        mean = data.erytrocyty.mean()\n",
    "        std = data.erytrocyty.std()\n",
    "        cut = std * 3\n",
    "        low_limit = mean - cut\n",
    "        up_limit = mean + cut \n",
    "        data = data[(data.erytrocyty > low_limit) & (data.erytrocyty < up_limit)]\n",
    "        return data"
   ]
  },
  {
   "cell_type": "code",
   "execution_count": 36,
   "metadata": {},
   "outputs": [],
   "source": [
    "class ReplaceOutliersTransformer(TransformerMixin):\n",
    "    def fit(self, data, y=None):\n",
    "        return self\n",
    "\n",
    "    def transform(self, data, y=None):\n",
    "        for column in data:\n",
    "            q1 = data[column].quantile(0.20)\n",
    "            q3 = data[column].quantile(0.80)\n",
    "            cut = (q3 - q1) * 1.5\n",
    "            minimum_check = q1 - cut\n",
    "            maximum_check = q3 + cut\n",
    "            data[column] = np.where(data[column] < minimum_check, minimum_check, data[column])\n",
    "            data[column] = np.where(data[column] > maximum_check, maximum_check, data[column])\n",
    "        return data"
   ]
  },
  {
   "cell_type": "code",
   "execution_count": 37,
   "metadata": {},
   "outputs": [],
   "source": [
    "# @param [\"erytrocyty\", \"weight\", \"trombocyty\", \"alp\", \"hbver\", \"etytr\", \"leukocyty\", \"ast\", \"hematokrit\", \"er-cv\", \"hemoglobin\", \"alt\", \"age\"]\n",
    "class PreprocessDataTransformer(TransformerMixin):\n",
    "    def __init__(self, columns):\n",
    "        self.columns = columns\n",
    "\n",
    "    def fit(self, data, y=None):\n",
    "        return self\n",
    "\n",
    "    def transform(self, data, y=None):\n",
    "        df_train, df_test = train_test_split(data, test_size=0.2)\n",
    "        transformer = PowerTransformer(method=\"yeo-johnson\")\n",
    "        idx = [i for i in df_train.columns if i in self.columns]\n",
    "        df_train[idx] = transformer.fit_transform(df_train[idx])\n",
    "        scaler = MinMaxScaler()\n",
    "        df_train = pd.DataFrame(scaler.fit_transform(df_train), columns=df_train.columns) \n",
    "        return df_train, df_test"
   ]
  },
  {
   "cell_type": "markdown",
   "metadata": {},
   "source": [
    "Pomocou tried vyššie sme si spravili pipelinu:\n",
    "- MergeTransformer mergne df_labor a df_profiles, upraví age na numerické hodnoty a odstráni duplikáty podľa mien\n",
    "- UniqueNumAttributeTransformer deduplikuje dáta a upraví všetky non numeric hodnoty na numeric\n",
    "- MeanImputeTransformer imputuje hodnoty pomocou priemeru\n",
    "- MedianImputeTransformer imputuje hodnoty pomocou mediánu\n",
    "- KNNImputeTransformer imputuje hodnoty pomocou KNN metódy\n",
    "- RemoveOutliersTransformer odstráni outliery\n",
    "- ReplaceOutliersTransformer nahradí outliery\n",
    "- PreprocessDataTransformer rozdelí dataset na testovaciu a trénovaciu množinu, pretransformuje a preškáluje a odstráni atribúty, s ktorými nebudeme pracovať"
   ]
  },
  {
   "cell_type": "code",
   "execution_count": 38,
   "metadata": {},
   "outputs": [],
   "source": [
    "pipeline = Pipeline([('merge_dfs', MergeTransformer(df_labor, df_profiles)),\n",
    "               ('unification_of_attr', UniqueNumAttributeTransformer()),\n",
    "               ('impute_by_mean', MeanImputeTransformer([\"erytrocyty\", \"hbver\", \"etytr\"])),\n",
    "               ('impute_by_median', MedianImputeTransformer([\"leukocyty\", \"er-cv\", \"hemoglobin\"])),\n",
    "               ('impute_by_knn', KNNImputeTransformer()),\n",
    "               ('remove_outliers', RemoveOutliersTransformer()),\n",
    "               ('replace_outliers', ReplaceOutliersTransformer()),\n",
    "               ('preprocess_data', PreprocessDataTransformer([\"erytrocyty\", \"weight\", \"trombocyty\", \"alp\", \"hbver\", \"etytr\", \"leukocyty\", \"ast\", \"hematokrit\", \"er-cv\", \"hemoglobin\", \"alt\", \"age\"]))])"
   ]
  }
 ],
 "metadata": {
  "interpreter": {
   "hash": "642ff44bf530951a96c3306915cb4daf5a5fe317311f4fcb7ab0e3387b0391e1"
  },
  "kernelspec": {
   "display_name": "Python 3.8.8 64-bit ('base': conda)",
   "name": "python3"
  },
  "language_info": {
   "codemirror_mode": {
    "name": "ipython",
    "version": 3
   },
   "file_extension": ".py",
   "mimetype": "text/x-python",
   "name": "python",
   "nbconvert_exporter": "python",
   "pygments_lexer": "ipython3",
   "version": "3.8.8"
  },
  "orig_nbformat": 4
 },
 "nbformat": 4,
 "nbformat_minor": 2
}
