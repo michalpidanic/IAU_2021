{
 "cells": [
  {
   "cell_type": "markdown",
   "metadata": {},
   "source": [
    "# Projekt IAU  \n",
    "## 3. časť - Strojové učenie\n",
    "### Vypracovali: Marek Adamovič, Michal Pidanič\n",
    "### Číslo datasetu: 32\n",
    "### Podiel práce: 50/50"
   ]
  },
  {
   "cell_type": "code",
   "execution_count": 51,
   "metadata": {},
   "outputs": [],
   "source": [
    "import pandas as pd\n",
    "import seaborn as sns\n",
    "import numpy as np"
   ]
  },
  {
   "cell_type": "markdown",
   "metadata": {},
   "source": [
    "## 1. 1R algoritmus\n",
    "### Načítanie dát"
   ]
  },
  {
   "cell_type": "code",
   "execution_count": 52,
   "metadata": {},
   "outputs": [
    {
     "data": {
      "text/html": [
       "<div>\n",
       "<style scoped>\n",
       "    .dataframe tbody tr th:only-of-type {\n",
       "        vertical-align: middle;\n",
       "    }\n",
       "\n",
       "    .dataframe tbody tr th {\n",
       "        vertical-align: top;\n",
       "    }\n",
       "\n",
       "    .dataframe thead th {\n",
       "        text-align: right;\n",
       "    }\n",
       "</style>\n",
       "<table border=\"1\" class=\"dataframe\">\n",
       "  <thead>\n",
       "    <tr style=\"text-align: right;\">\n",
       "      <th></th>\n",
       "      <th>indicator</th>\n",
       "      <th>erytrocyty</th>\n",
       "      <th>smoker</th>\n",
       "      <th>weight</th>\n",
       "      <th>trombocyty</th>\n",
       "      <th>alp</th>\n",
       "      <th>hbver</th>\n",
       "      <th>etytr</th>\n",
       "      <th>relationship</th>\n",
       "      <th>leukocyty</th>\n",
       "      <th>ast</th>\n",
       "      <th>hematokrit</th>\n",
       "      <th>er-cv</th>\n",
       "      <th>hemoglobin</th>\n",
       "      <th>alt</th>\n",
       "      <th>age</th>\n",
       "      <th>race</th>\n",
       "      <th>blood_group</th>\n",
       "      <th>sex</th>\n",
       "    </tr>\n",
       "  </thead>\n",
       "  <tbody>\n",
       "    <tr>\n",
       "      <th>7332</th>\n",
       "      <td>0.0</td>\n",
       "      <td>0.575754</td>\n",
       "      <td>1.0</td>\n",
       "      <td>0.711019</td>\n",
       "      <td>0.499028</td>\n",
       "      <td>0.829567</td>\n",
       "      <td>0.801791</td>\n",
       "      <td>0.665184</td>\n",
       "      <td>0.50</td>\n",
       "      <td>0.486833</td>\n",
       "      <td>0.472319</td>\n",
       "      <td>0.783965</td>\n",
       "      <td>0.339923</td>\n",
       "      <td>0.463351</td>\n",
       "      <td>0.815196</td>\n",
       "      <td>0.543468</td>\n",
       "      <td>0.0</td>\n",
       "      <td>0.142857</td>\n",
       "      <td>1.0</td>\n",
       "    </tr>\n",
       "    <tr>\n",
       "      <th>7333</th>\n",
       "      <td>0.0</td>\n",
       "      <td>0.430494</td>\n",
       "      <td>0.0</td>\n",
       "      <td>0.557357</td>\n",
       "      <td>0.536773</td>\n",
       "      <td>0.495379</td>\n",
       "      <td>0.355516</td>\n",
       "      <td>0.524090</td>\n",
       "      <td>0.00</td>\n",
       "      <td>0.380365</td>\n",
       "      <td>0.452176</td>\n",
       "      <td>0.398662</td>\n",
       "      <td>0.479772</td>\n",
       "      <td>0.359034</td>\n",
       "      <td>0.671064</td>\n",
       "      <td>0.818007</td>\n",
       "      <td>0.0</td>\n",
       "      <td>0.857143</td>\n",
       "      <td>0.0</td>\n",
       "    </tr>\n",
       "    <tr>\n",
       "      <th>7334</th>\n",
       "      <td>1.0</td>\n",
       "      <td>0.385569</td>\n",
       "      <td>0.0</td>\n",
       "      <td>0.426305</td>\n",
       "      <td>0.428256</td>\n",
       "      <td>0.115216</td>\n",
       "      <td>0.465090</td>\n",
       "      <td>0.557330</td>\n",
       "      <td>1.00</td>\n",
       "      <td>0.709329</td>\n",
       "      <td>0.549813</td>\n",
       "      <td>0.447231</td>\n",
       "      <td>0.422781</td>\n",
       "      <td>0.734668</td>\n",
       "      <td>0.520211</td>\n",
       "      <td>0.220231</td>\n",
       "      <td>0.0</td>\n",
       "      <td>1.000000</td>\n",
       "      <td>0.0</td>\n",
       "    </tr>\n",
       "    <tr>\n",
       "      <th>7335</th>\n",
       "      <td>0.0</td>\n",
       "      <td>0.349808</td>\n",
       "      <td>1.0</td>\n",
       "      <td>0.624799</td>\n",
       "      <td>0.543183</td>\n",
       "      <td>0.222387</td>\n",
       "      <td>0.632780</td>\n",
       "      <td>0.781543</td>\n",
       "      <td>0.25</td>\n",
       "      <td>0.345778</td>\n",
       "      <td>0.483406</td>\n",
       "      <td>0.398620</td>\n",
       "      <td>0.438654</td>\n",
       "      <td>0.262399</td>\n",
       "      <td>0.523668</td>\n",
       "      <td>0.263312</td>\n",
       "      <td>1.0</td>\n",
       "      <td>0.428571</td>\n",
       "      <td>0.0</td>\n",
       "    </tr>\n",
       "    <tr>\n",
       "      <th>7336</th>\n",
       "      <td>0.0</td>\n",
       "      <td>0.424664</td>\n",
       "      <td>1.0</td>\n",
       "      <td>0.468864</td>\n",
       "      <td>0.343344</td>\n",
       "      <td>0.175400</td>\n",
       "      <td>0.873242</td>\n",
       "      <td>0.836406</td>\n",
       "      <td>0.25</td>\n",
       "      <td>0.676886</td>\n",
       "      <td>0.506133</td>\n",
       "      <td>0.456904</td>\n",
       "      <td>0.446154</td>\n",
       "      <td>0.744521</td>\n",
       "      <td>0.587184</td>\n",
       "      <td>0.909949</td>\n",
       "      <td>0.5</td>\n",
       "      <td>0.428571</td>\n",
       "      <td>0.0</td>\n",
       "    </tr>\n",
       "  </tbody>\n",
       "</table>\n",
       "</div>"
      ],
      "text/plain": [
       "      indicator  erytrocyty  smoker    weight  trombocyty       alp     hbver  \\\n",
       "7332        0.0    0.575754     1.0  0.711019    0.499028  0.829567  0.801791   \n",
       "7333        0.0    0.430494     0.0  0.557357    0.536773  0.495379  0.355516   \n",
       "7334        1.0    0.385569     0.0  0.426305    0.428256  0.115216  0.465090   \n",
       "7335        0.0    0.349808     1.0  0.624799    0.543183  0.222387  0.632780   \n",
       "7336        0.0    0.424664     1.0  0.468864    0.343344  0.175400  0.873242   \n",
       "\n",
       "         etytr  relationship  leukocyty       ast  hematokrit     er-cv  \\\n",
       "7332  0.665184          0.50   0.486833  0.472319    0.783965  0.339923   \n",
       "7333  0.524090          0.00   0.380365  0.452176    0.398662  0.479772   \n",
       "7334  0.557330          1.00   0.709329  0.549813    0.447231  0.422781   \n",
       "7335  0.781543          0.25   0.345778  0.483406    0.398620  0.438654   \n",
       "7336  0.836406          0.25   0.676886  0.506133    0.456904  0.446154   \n",
       "\n",
       "      hemoglobin       alt       age  race  blood_group  sex  \n",
       "7332    0.463351  0.815196  0.543468   0.0     0.142857  1.0  \n",
       "7333    0.359034  0.671064  0.818007   0.0     0.857143  0.0  \n",
       "7334    0.734668  0.520211  0.220231   0.0     1.000000  0.0  \n",
       "7335    0.262399  0.523668  0.263312   1.0     0.428571  0.0  \n",
       "7336    0.744521  0.587184  0.909949   0.5     0.428571  0.0  "
      ]
     },
     "execution_count": 52,
     "metadata": {},
     "output_type": "execute_result"
    }
   ],
   "source": [
    "df_train = (pd.read_csv(\"data/train_ready.csv\", sep=',')).drop('Unnamed: 0', axis = 1)\n",
    "df_test = (pd.read_csv(\"data/test_ready.csv\", sep=',')).drop('Unnamed: 0', axis = 1)\n",
    "df_train.tail()"
   ]
  },
  {
   "cell_type": "markdown",
   "metadata": {},
   "source": [
    "### "
   ]
  },
  {
   "cell_type": "markdown",
   "metadata": {},
   "source": [
    "### Hranice pre algoritmus\n",
    "Pozrieme sa na 3 grafy, ktoré v minulom zadaní preukázali najvyššiu závislosť s indikátorom."
   ]
  },
  {
   "cell_type": "code",
   "execution_count": 53,
   "metadata": {},
   "outputs": [
    {
     "data": {
      "text/plain": [
       "<seaborn.axisgrid.FacetGrid at 0x16dac764fa0>"
      ]
     },
     "execution_count": 53,
     "metadata": {},
     "output_type": "execute_result"
    },
    {
     "data": {
      "image/png": "[encoded data removed]",
      "text/plain": [
       "<Figure size 412.125x360 with 1 Axes>"
      ]
     },
     "metadata": {
      "needs_background": "light"
     },
     "output_type": "display_data"
    },
    {
     "data": {
      "image/png": "[encoded data removed]",
      "text/plain": [
       "<Figure size 412.125x360 with 1 Axes>"
      ]
     },
     "metadata": {
      "needs_background": "light"
     },
     "output_type": "display_data"
    },
    {
     "data": {
      "image/png": "[encoded data removed]",
      "text/plain": [
       "<Figure size 412.125x360 with 1 Axes>"
      ]
     },
     "metadata": {
      "needs_background": "light"
     },
     "output_type": "display_data"
    }
   ],
   "source": [
    "sns.displot(data = df_train, x = \"alp\", hue=\"indicator\")\n",
    "sns.displot(data = df_train, x = \"erytrocyty\", hue=\"indicator\")\n",
    "sns.displot(data = df_train, x = \"hemoglobin\", hue=\"indicator\")"
   ]
  },
  {
   "cell_type": "markdown",
   "metadata": {},
   "source": [
    "Teraz si pre všetky zvolíme hranicu, podľa ktorej budeme klasifikovať.  Tú si vypočítame pomocou priemeru. Spriemerujeme záznamy s chorobou (indicator == 1) a taktiež bez choroby (indicator == 0). Stred medzi týmito priemermi bude našou hranicou."
   ]
  },
  {
   "cell_type": "code",
   "execution_count": 54,
   "metadata": {},
   "outputs": [
    {
     "name": "stdout",
     "output_type": "stream",
     "text": [
      "alp:\n",
      "Priemer bez choroby:  0.6297486439034249 \n",
      "Priemer s chorobou:  0.493344400446844 \n",
      "Nasa hranica:  0.5615465221751345\n",
      "erytrocyty:\n",
      "Priemer bez choroby:  0.4982618423410998 \n",
      "Priemer s chorobou:  0.38571843104408027 \n",
      "Nasa hranica:  0.44199013669259\n",
      "hemoglobin:\n",
      "Priemer bez choroby:  0.4405415446602446 \n",
      "Priemer s chorobou:  0.5519638365786657 \n",
      "Nasa hranica:  0.4962526906194551\n"
     ]
    }
   ],
   "source": [
    "a_mean_0 = df_train.alp[df_train.indicator == 0].mean()\n",
    "a_mean_1 = df_train.alp[df_train.indicator == 1].mean()\n",
    "a_limit = min(a_mean_0, a_mean_1) + abs(a_mean_0 - a_mean_1)/2\n",
    "print(\"alp:\\nPriemer bez choroby: \", a_mean_0, \"\\nPriemer s chorobou: \", a_mean_1, \"\\nNasa hranica: \", a_limit)\n",
    "\n",
    "e_mean_0 = df_train.erytrocyty[df_train.indicator == 0].mean()\n",
    "e_mean_1 = df_train.erytrocyty[df_train.indicator == 1].mean()\n",
    "e_limit = min(e_mean_0, e_mean_1) + abs(e_mean_0 - e_mean_1)/2\n",
    "print(\"erytrocyty:\\nPriemer bez choroby: \", e_mean_0, \"\\nPriemer s chorobou: \", e_mean_1, \"\\nNasa hranica: \", e_limit)\n",
    "\n",
    "h_mean_0 = df_train.hemoglobin[df_train.indicator == 0].mean()\n",
    "h_mean_1 = df_train.hemoglobin[df_train.indicator == 1].mean()\n",
    "h_limit = min(h_mean_0, h_mean_1) + abs(h_mean_0 - h_mean_1)/2\n",
    "print(\"hemoglobin:\\nPriemer bez choroby: \", h_mean_0, \"\\nPriemer s chorobou: \", h_mean_1, \"\\nNasa hranica: \", h_limit)"
   ]
  },
  {
   "cell_type": "markdown",
   "metadata": {},
   "source": [
    "Teraz prejdeme dataset a každý záznam porovnáme s týmito troma hranicami. Keďže rovnomerne klasifikujeme podľa 3 atribútov, budeme klasifikovať na základe väčšiny (teda 2 z 3, resp. 3 z 3). Následne skontrolujeme našu presnosť podľa indikátoru."
   ]
  },
  {
   "cell_type": "code",
   "execution_count": 59,
   "metadata": {},
   "outputs": [
    {
     "name": "stdout",
     "output_type": "stream",
     "text": [
      "TRENOVACI DATASET:\n",
      "True positives:  3078\n",
      "True negatives:  1774\n",
      "False positives:  834\n",
      "False negatives:  1651\n",
      "Accuracy:  66.1305710780973 %\n",
      "Precision:  78.68098159509202 %\n",
      "Recall:  65.0877563967012 %\n",
      "\n",
      "TESTOVACI DATASET:\n",
      "True positives:  785\n",
      "True negatives:  392\n",
      "False positives:  280\n",
      "False negatives:  378\n",
      "Accuracy:  64.14168937329701 %\n",
      "Precision:  73.70892018779342 %\n",
      "Recall:  67.49785038693035 %\n"
     ]
    }
   ],
   "source": [
    "def r1_algo(df):\n",
    "    true_positives = 0\n",
    "    true_negatives = 0\n",
    "    false_positives = 0\n",
    "    false_negatives = 0\n",
    "    for row in df.iterrows():\n",
    "        #counter for results of 3 atrributes tests\n",
    "        isIll = 0\n",
    "\n",
    "        #test alp limit\n",
    "        if(row[1].alp < a_limit):\n",
    "            isIll+=1\n",
    "        else:\n",
    "            isIll-=1\n",
    "\n",
    "        #test erytrocyty limit\n",
    "        if(row[1].erytrocyty < e_limit):\n",
    "            isIll+=1\n",
    "        else:\n",
    "            isIll-=1\n",
    "\n",
    "        #test hemoglobin limit\n",
    "        if(row[1].alp > h_limit):\n",
    "            isIll+=1\n",
    "        else:\n",
    "            isIll-=1\n",
    "\n",
    "        #make our guess\n",
    "        if(isIll > 0):\n",
    "            guess = 1\n",
    "        else:\n",
    "            guess = 0\n",
    "\n",
    "        #compare our guess with real indicator\n",
    "        if(row[1].indicator == guess and guess == 1):\n",
    "            true_positives += 1\n",
    "        elif(row[1].indicator == guess and guess == 0):\n",
    "            true_negatives += 1\n",
    "        elif(row[1].indicator != guess and guess == 1):\n",
    "            false_positives += 1\n",
    "        elif(row[1].indicator != guess and guess == 0):\n",
    "            false_negatives += 1\n",
    "        else:\n",
    "            print(\"Something went wrong\")\n",
    "\n",
    "    print(\"True positives: \", true_positives)\n",
    "    print(\"True negatives: \", true_negatives)\n",
    "    print(\"False positives: \", false_positives)\n",
    "    print(\"False negatives: \", false_negatives)\n",
    "    print(\"Accuracy: \", (true_positives + true_negatives)/(true_positives + true_negatives + false_positives + false_negatives) * 100, \"%\")\n",
    "    print(\"Precision: \", (true_positives)/(true_positives + false_positives) * 100, \"%\")\n",
    "    print(\"Recall: \", (true_positives)/(true_positives + false_negatives) * 100, \"%\")\n",
    "\n",
    "print(\"TRENOVACI DATASET:\")\n",
    "r1_algo(df_train)\n",
    "print(\"\\nTESTOVACI DATASET:\")\n",
    "r1_algo(df_test)"
   ]
  },
  {
   "cell_type": "code",
   "execution_count": null,
   "metadata": {},
   "outputs": [],
   "source": []
  }
 ],
 "metadata": {
  "interpreter": {
   "hash": "dcacb0086e9a4f4eabd41c33bf4faac5ea0a3337ed3f5eff0680afa930572c04"
  },
  "kernelspec": {
   "display_name": "Python 3.9.7 64-bit",
   "language": "python",
   "name": "python3"
  },
  "language_info": {
   "codemirror_mode": {
    "name": "ipython",
    "version": 3
   },
   "file_extension": ".py",
   "mimetype": "text/x-python",
   "name": "python",
   "nbconvert_exporter": "python",
   "pygments_lexer": "ipython3",
   "version": "3.9.7"
  },
  "orig_nbformat": 4
 },
 "nbformat": 4,
 "nbformat_minor": 2
}
